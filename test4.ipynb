{
 "metadata": {
  "language_info": {
   "codemirror_mode": {
    "name": "ipython",
    "version": 3
   },
   "file_extension": ".py",
   "mimetype": "text/x-python",
   "name": "python",
   "nbconvert_exporter": "python",
   "pygments_lexer": "ipython3",
   "version": "3.7.4-final"
  },
  "orig_nbformat": 2,
  "kernelspec": {
   "name": "python3",
   "display_name": "Python 3",
   "language": "python"
  }
 },
 "nbformat": 4,
 "nbformat_minor": 2,
 "cells": [
  {
   "cell_type": "code",
   "execution_count": 31,
   "metadata": {},
   "outputs": [
    {
     "output_type": "stream",
     "name": "stdout",
     "text": [
      "fetching page:  1\n",
      "fetching page:  2\n",
      "fetching page:  3\n"
     ]
    },
    {
     "output_type": "error",
     "ename": "AttributeError",
     "evalue": "'NoneType' object has no attribute 'findAll'",
     "traceback": [
      "\u001b[1;31m---------------------------------------------------------------------------\u001b[0m",
      "\u001b[1;31mAttributeError\u001b[0m                            Traceback (most recent call last)",
      "\u001b[1;32m<ipython-input-31-97bdc4832fad>\u001b[0m in \u001b[0;36m<module>\u001b[1;34m\u001b[0m\n\u001b[0;32m     15\u001b[0m     \u001b[0mr\u001b[0m \u001b[1;33m=\u001b[0m \u001b[0mrequests\u001b[0m\u001b[1;33m.\u001b[0m\u001b[0mget\u001b[0m\u001b[1;33m(\u001b[0m\u001b[0mnext_url\u001b[0m\u001b[1;33m,\u001b[0m \u001b[0mheaders\u001b[0m\u001b[1;33m=\u001b[0m\u001b[0mheaders\u001b[0m\u001b[1;33m)\u001b[0m\u001b[1;33m\u001b[0m\u001b[1;33m\u001b[0m\u001b[0m\n\u001b[0;32m     16\u001b[0m     \u001b[0msoup\u001b[0m \u001b[1;33m=\u001b[0m \u001b[0mBeautifulSoup\u001b[0m\u001b[1;33m(\u001b[0m\u001b[0mr\u001b[0m\u001b[1;33m.\u001b[0m\u001b[0mtext\u001b[0m\u001b[1;33m,\u001b[0m\u001b[1;34m'html.parser'\u001b[0m\u001b[1;33m)\u001b[0m\u001b[1;33m\u001b[0m\u001b[1;33m\u001b[0m\u001b[0m\n\u001b[1;32m---> 17\u001b[1;33m     \u001b[1;32mfor\u001b[0m \u001b[0melement\u001b[0m \u001b[1;32min\u001b[0m \u001b[0msoup\u001b[0m\u001b[1;33m.\u001b[0m\u001b[0mfind\u001b[0m\u001b[1;33m(\u001b[0m\u001b[1;34m'tbody'\u001b[0m\u001b[1;33m)\u001b[0m\u001b[1;33m.\u001b[0m\u001b[0mfindAll\u001b[0m\u001b[1;33m(\u001b[0m\u001b[1;34m'tr'\u001b[0m\u001b[1;33m)\u001b[0m\u001b[1;33m:\u001b[0m\u001b[1;33m\u001b[0m\u001b[1;33m\u001b[0m\u001b[0m\n\u001b[0m\u001b[0;32m     18\u001b[0m         \u001b[0mtemp\u001b[0m \u001b[1;33m=\u001b[0m \u001b[1;33m[\u001b[0m\u001b[0mi\u001b[0m\u001b[1;33m.\u001b[0m\u001b[0mtext\u001b[0m \u001b[1;32mfor\u001b[0m \u001b[0mi\u001b[0m \u001b[1;32min\u001b[0m \u001b[0melement\u001b[0m\u001b[1;33m.\u001b[0m\u001b[0mfindAll\u001b[0m\u001b[1;33m(\u001b[0m\u001b[1;34m'td'\u001b[0m\u001b[1;33m)\u001b[0m\u001b[1;33m]\u001b[0m\u001b[1;33m\u001b[0m\u001b[1;33m\u001b[0m\u001b[0m\n\u001b[0;32m     19\u001b[0m         \u001b[1;32mtry\u001b[0m\u001b[1;33m:\u001b[0m\u001b[1;33m\u001b[0m\u001b[1;33m\u001b[0m\u001b[0m\n",
      "\u001b[1;31mAttributeError\u001b[0m: 'NoneType' object has no attribute 'findAll'"
     ]
    }
   ],
   "source": [
    "import pandas as pd \n",
    "import requests\n",
    "from bs4 import BeautifulSoup\n",
    "import time\n",
    "headers = {'Cookie':'Hm_lvt_60bad21af9c824a4a0530d5dbf4357ca=1611716962,1611796170; Hm_lvt_f79b64788a4e377c608617fba4c736e2=1611716962,1611796170; Hm_lvt_78c58f01938e4d85eaf619eae71b4ed1=1611716962,1611796170,1611801970; Hm_lpvt_78c58f01938e4d85eaf619eae71b4ed1=1611805212; Hm_lpvt_f79b64788a4e377c608617fba4c736e2=1611805212; Hm_lpvt_60bad21af9c824a4a0530d5dbf4357ca=1611805212; v=A6Dcfb571PH-5mj1-Ie_bafXcaVxqYRzJo3YdxqxbLtOFU7TwrlUA3adqAtp',\n",
    "    'Host': 'data.10jqka.com.cn',\n",
    "    'User-Agent': 'Mozilla/5.0 (Windows NT 10.0; Win64; x64) AppleWebKit/537.36 (KHTML, like Gecko) Chrome/87.0.4280.141 Safari/537.36'}\n",
    "\n",
    "base_url = 'http://data.10jqka.com.cn/ipo/xgyp/field/DATE/order/desc/page/'\n",
    "\n",
    "jqka_data = []\n",
    "for i in range(1,113):\n",
    "    print('fetching page: ', i)\n",
    "    next_url = base_url + str(i) +'/ajax/1/free/1/'\n",
    "    r = requests.get(next_url, headers=headers)\n",
    "    soup = BeautifulSoup(r.text,'html.parser')\n",
    "    for element in soup.find('tbody').findAll('tr'):\n",
    "        temp = [i.text for i in element.findAll('td')]\n",
    "        try:\n",
    "            temp[-2] = element.a['href']\n",
    "            \n",
    "        except:\n",
    "            temp[-2] = '-'\n",
    "        jqka_data.append(temp[:-1])\n",
    "    r.close()\n",
    "    time.sleep(50)"
   ]
  },
  {
   "cell_type": "code",
   "execution_count": null,
   "metadata": {},
   "outputs": [],
   "source": []
  },
  {
   "cell_type": "code",
   "execution_count": 28,
   "metadata": {},
   "outputs": [
    {
     "output_type": "execute_result",
     "data": {
      "text/plain": [
       "<html><body>\n",
       "<script src=\"//s.thsi.cn/js/chameleon/chameleon.min.1611805.js\" type=\"text/javascript\"></script> <script src=\"//s.thsi.cn/js/chameleon/chameleon.min.1611805.js\" type=\"text/javascript\"></script>\n",
       "<script language=\"javascript\" type=\"text/javascript\">\n",
       "    window.location.href=\"http://data.10jqka.com.cn/ipo/xgyp/field/DATE/order/desc/page/6/ajax/1/free/1/\";\n",
       "    </script>\n",
       "</body></html>"
      ]
     },
     "metadata": {},
     "execution_count": 28
    }
   ],
   "source": [
    "soup"
   ]
  },
  {
   "cell_type": "code",
   "execution_count": 222,
   "metadata": {},
   "outputs": [],
   "source": [
    "\n",
    "# ipo_order = ['已受理','已反馈','预先披露更新','已通过发审会','']\n",
    "# east_money['类型'] = east_money['类型'].astype(\"category\")\n",
    "# east_money['类型'].cat.set_categories(ipo_order, inplace=True)\n"
   ]
  },
  {
   "cell_type": "code",
   "execution_count": 220,
   "metadata": {},
   "outputs": [
    {
     "output_type": "execute_result",
     "data": {
      "text/plain": [
       "             机构名称   类型        受理日期\n",
       "23339  北京国联视讯信息技术  已受理  2017/10/12\n",
       "23923  北京国联视讯信息技术  已受理  2017/10/19\n",
       "24492  北京国联视讯信息技术  已受理  2017/10/26\n",
       "25051  北京国联视讯信息技术  已受理   2017/11/2\n",
       "25596  北京国联视讯信息技术  已受理   2017/11/9\n",
       "26133  北京国联视讯信息技术  已受理  2017/11/16\n",
       "26663  北京国联视讯信息技术  已受理  2017/11/23\n",
       "27181  北京国联视讯信息技术  已受理  2017/11/30\n",
       "27693  北京国联视讯信息技术  已受理   2017/12/7\n",
       "28200  北京国联视讯信息技术  已反馈  2017/12/14\n",
       "28709  北京国联视讯信息技术  已反馈  2017/12/21\n",
       "29216  北京国联视讯信息技术  已反馈  2017/12/28\n",
       "29734  北京国联视讯信息技术  已反馈    2018/1/4\n",
       "30233  北京国联视讯信息技术  已反馈   2018/1/11\n",
       "30658  北京国联视讯信息技术  已反馈   2018/1/18\n",
       "31137  北京国联视讯信息技术  已反馈   2018/1/25\n",
       "31600  北京国联视讯信息技术  已反馈    2018/2/8\n",
       "32045  北京国联视讯信息技术  已反馈   2018/2/22\n",
       "32482  北京国联视讯信息技术  已反馈    2018/3/1\n",
       "32912  北京国联视讯信息技术  已反馈    2018/3/8"
      ],
      "text/html": "<div>\n<style scoped>\n    .dataframe tbody tr th:only-of-type {\n        vertical-align: middle;\n    }\n\n    .dataframe tbody tr th {\n        vertical-align: top;\n    }\n\n    .dataframe thead th {\n        text-align: right;\n    }\n</style>\n<table border=\"1\" class=\"dataframe\">\n  <thead>\n    <tr style=\"text-align: right;\">\n      <th></th>\n      <th>机构名称</th>\n      <th>类型</th>\n      <th>受理日期</th>\n    </tr>\n  </thead>\n  <tbody>\n    <tr>\n      <td>23339</td>\n      <td>北京国联视讯信息技术</td>\n      <td>已受理</td>\n      <td>2017/10/12</td>\n    </tr>\n    <tr>\n      <td>23923</td>\n      <td>北京国联视讯信息技术</td>\n      <td>已受理</td>\n      <td>2017/10/19</td>\n    </tr>\n    <tr>\n      <td>24492</td>\n      <td>北京国联视讯信息技术</td>\n      <td>已受理</td>\n      <td>2017/10/26</td>\n    </tr>\n    <tr>\n      <td>25051</td>\n      <td>北京国联视讯信息技术</td>\n      <td>已受理</td>\n      <td>2017/11/2</td>\n    </tr>\n    <tr>\n      <td>25596</td>\n      <td>北京国联视讯信息技术</td>\n      <td>已受理</td>\n      <td>2017/11/9</td>\n    </tr>\n    <tr>\n      <td>26133</td>\n      <td>北京国联视讯信息技术</td>\n      <td>已受理</td>\n      <td>2017/11/16</td>\n    </tr>\n    <tr>\n      <td>26663</td>\n      <td>北京国联视讯信息技术</td>\n      <td>已受理</td>\n      <td>2017/11/23</td>\n    </tr>\n    <tr>\n      <td>27181</td>\n      <td>北京国联视讯信息技术</td>\n      <td>已受理</td>\n      <td>2017/11/30</td>\n    </tr>\n    <tr>\n      <td>27693</td>\n      <td>北京国联视讯信息技术</td>\n      <td>已受理</td>\n      <td>2017/12/7</td>\n    </tr>\n    <tr>\n      <td>28200</td>\n      <td>北京国联视讯信息技术</td>\n      <td>已反馈</td>\n      <td>2017/12/14</td>\n    </tr>\n    <tr>\n      <td>28709</td>\n      <td>北京国联视讯信息技术</td>\n      <td>已反馈</td>\n      <td>2017/12/21</td>\n    </tr>\n    <tr>\n      <td>29216</td>\n      <td>北京国联视讯信息技术</td>\n      <td>已反馈</td>\n      <td>2017/12/28</td>\n    </tr>\n    <tr>\n      <td>29734</td>\n      <td>北京国联视讯信息技术</td>\n      <td>已反馈</td>\n      <td>2018/1/4</td>\n    </tr>\n    <tr>\n      <td>30233</td>\n      <td>北京国联视讯信息技术</td>\n      <td>已反馈</td>\n      <td>2018/1/11</td>\n    </tr>\n    <tr>\n      <td>30658</td>\n      <td>北京国联视讯信息技术</td>\n      <td>已反馈</td>\n      <td>2018/1/18</td>\n    </tr>\n    <tr>\n      <td>31137</td>\n      <td>北京国联视讯信息技术</td>\n      <td>已反馈</td>\n      <td>2018/1/25</td>\n    </tr>\n    <tr>\n      <td>31600</td>\n      <td>北京国联视讯信息技术</td>\n      <td>已反馈</td>\n      <td>2018/2/8</td>\n    </tr>\n    <tr>\n      <td>32045</td>\n      <td>北京国联视讯信息技术</td>\n      <td>已反馈</td>\n      <td>2018/2/22</td>\n    </tr>\n    <tr>\n      <td>32482</td>\n      <td>北京国联视讯信息技术</td>\n      <td>已反馈</td>\n      <td>2018/3/1</td>\n    </tr>\n    <tr>\n      <td>32912</td>\n      <td>北京国联视讯信息技术</td>\n      <td>已反馈</td>\n      <td>2018/3/8</td>\n    </tr>\n  </tbody>\n</table>\n</div>"
     },
     "metadata": {},
     "execution_count": 220
    }
   ],
   "source": [
    "east_money.sort_values(['机构名称','类型','受理日期'],ascending=[True, True,True],inplace=False)\n",
    "east_money[['机构名称','类型','受理日期']].loc[east_money['机构名称'] == '北京国联视讯信息技术'].head(20)"
   ]
  },
  {
   "cell_type": "code",
   "execution_count": 309,
   "metadata": {},
   "outputs": [],
   "source": [
    "\n",
    "east_money =  pd.read_csv('C:/Users/chen/Desktop/IPO_info/easymoney_data.csv')\n",
    "east_money.replace({'是否提交财务自查报告':' '},'是')\n",
    "east_money.replace({'是否提交财务自查报告':'不适用'},'是')\n",
    "east_money['机构名称'] = east_money['机构名称'].replace(r'\\*','',regex=True)\n",
    "east_money['机构名称'] = east_money['机构名称'].replace(r'股份有限公司','',regex=True)\n",
    "east_money = east_money[east_money['板块'] != '创业板']\n",
    "# east_money.sort_values(['机构名称','类型','受理日期'],ascending=[True, True,True],inplace=True)\n",
    "# east_money.to_csv('C:/Users/chen/Desktop/IPO_info/pre_cleab.csv',encoding='utf-8-sig',index=False)\n",
    "east_money.drop_duplicates(subset =['机构名称','类型'], keep = 'first', inplace = True) \n",
    "east_money.to_csv('C:/Users/chen/Desktop/IPO_info/easymoney_data_new.csv',encoding='utf-8-sig',index=False)"
   ]
  },
  {
   "cell_type": "code",
   "execution_count": 310,
   "metadata": {},
   "outputs": [],
   "source": [
    "ekk = east_money.values.tolist()\n",
    "abc = {}\n",
    "\n",
    "for i in ekk:\n",
    "    if i[0] not in abc:\n",
    "        abc[i[0]] = {'机构名称':i[0],\n",
    "                    '预先披露':'',\n",
    "                     '已反馈':'',\n",
    "                    '预先披露更新':'',\n",
    "                    '其他':'',\n",
    "                    '已通过发审会':'',\n",
    "                    '终止审查':'',\n",
    "                    '保荐机构':i[4],\n",
    "                    '律师事务所':i[6],\n",
    "                    '会计师事务所':i[8],\n",
    "                    '板块':i[2],\n",
    "                    '简称':i[15]\n",
    "                    }  \n",
    "        if i[1] == '已受理':\n",
    "            abc[i[0]]['预先披露'] = i[12]\n",
    "        elif i[1] == '已反馈':\n",
    "            abc[i[0]]['已反馈'] = i[12]\n",
    "        elif i[1] == '预先披露更新':\n",
    "            abc[i[0]]['预先披露更新'] = i[12]\n",
    "        elif i[1] == '已通过发审会':\n",
    "            abc[i[0]]['已通过发审会'] = i[12]\n",
    "\n",
    "    else:\n",
    "        if i[1] == '已受理':\n",
    "            abc[i[0]]['预先披露'] = i[12]\n",
    "        elif i[1] == '已反馈':\n",
    "            abc[i[0]]['已反馈'] = i[12]\n",
    "        elif i[1] == '预先披露更新':\n",
    "            abc[i[0]]['预先披露更新'] = i[12]\n",
    "        elif i[1] == '已通过发审会':\n",
    "            abc[i[0]]['已通过发审会'] = i[12]    \n",
    "        elif i[1] in ['已提交发审会讨论，暂缓表决','已上发审会，暂缓表决','中止审查']:\n",
    "            abc[i[0]]['其他'] = {i[1]:i[12]}     \n",
    "\n",
    "df = pd.DataFrame.from_dict(abc, orient='index',columns=['机构名称', '预先披露', '已反馈', '预先披露更新','其他','已通过发审会','保荐机构','律师事务所','会计师事务所','板块','简称',])    \n",
    "df.to_csv('C:/Users/chen/Desktop/IPO_info/after_clean.csv',encoding='utf-8-sig',index=False)"
   ]
  },
  {
   "cell_type": "code",
   "execution_count": 322,
   "metadata": {},
   "outputs": [
    {
     "output_type": "execute_result",
     "data": {
      "text/plain": [
       "{'机构名称': '威海百合生物技术',\n",
       " '预先披露': '2020-06-11',\n",
       " '已反馈': '2020/7/9',\n",
       " '预先披露更新': '',\n",
       " '其他': {'中止审查': '2021-01-28'},\n",
       " '已通过发审会': '',\n",
       " '终止审查': '',\n",
       " '保荐机构': '广发证券股份有限公司',\n",
       " '律师事务所': '北京市君泽君律师事务所',\n",
       " '会计师事务所': '容诚会计师事务所（特殊普通合伙）',\n",
       " '板块': '主板企业',\n",
       " '简称': 'whbhswjsgfyxgs'}"
      ]
     },
     "metadata": {},
     "execution_count": 322
    }
   ],
   "source": [
    "abc['威海百合生物技术']"
   ]
  },
  {
   "cell_type": "code",
   "execution_count": 311,
   "metadata": {},
   "outputs": [
    {
     "output_type": "execute_result",
     "data": {
      "text/plain": [
       "            企业名称                       保荐机构  ... 是否已参加抽查抽签或现场检查    备注\n",
       "序号                                           ...                     \n",
       "1           乔丹体育               中银国际证券有限责任公司  ...              是   NaN\n",
       "2         聚信国际租赁               国泰君安证券股份有限公司  ...              是   NaN\n",
       "3       大连万达商业地产  中国银河证券股份有限公司、中国国际金融股份有限公司  ...              是  中止审查\n",
       "4   浙江绍兴瑞丰农村商业银行               中信建投证券股份有限公司  ...              是   NaN\n",
       "5         毛戈平化妆品               长江证券承销保荐有限公司  ...              是   NaN\n",
       "\n",
       "[5 rows x 8 columns]"
      ],
      "text/html": "<div>\n<style scoped>\n    .dataframe tbody tr th:only-of-type {\n        vertical-align: middle;\n    }\n\n    .dataframe tbody tr th {\n        vertical-align: top;\n    }\n\n    .dataframe thead th {\n        text-align: right;\n    }\n</style>\n<table border=\"1\" class=\"dataframe\">\n  <thead>\n    <tr style=\"text-align: right;\">\n      <th></th>\n      <th>企业名称</th>\n      <th>保荐机构</th>\n      <th>会计师事务所</th>\n      <th>律师事务所</th>\n      <th>受理日期</th>\n      <th>审核状态</th>\n      <th>是否已参加抽查抽签或现场检查</th>\n      <th>备注</th>\n    </tr>\n    <tr>\n      <th>序号</th>\n      <th></th>\n      <th></th>\n      <th></th>\n      <th></th>\n      <th></th>\n      <th></th>\n      <th></th>\n      <th></th>\n    </tr>\n  </thead>\n  <tbody>\n    <tr>\n      <td>1</td>\n      <td>乔丹体育</td>\n      <td>中银国际证券有限责任公司</td>\n      <td>安永华明会计师事务所（特殊普通合伙)</td>\n      <td>福建至理律师事务所</td>\n      <td>2010-09-15</td>\n      <td>已通过发审会</td>\n      <td>是</td>\n      <td>NaN</td>\n    </tr>\n    <tr>\n      <td>2</td>\n      <td>聚信国际租赁</td>\n      <td>国泰君安证券股份有限公司</td>\n      <td>立信会计师事务所（特殊普通合伙）</td>\n      <td>北京市金杜律师事务所</td>\n      <td>2014-10-16</td>\n      <td>预先披露更新</td>\n      <td>是</td>\n      <td>NaN</td>\n    </tr>\n    <tr>\n      <td>3</td>\n      <td>大连万达商业地产</td>\n      <td>中国银河证券股份有限公司、中国国际金融股份有限公司</td>\n      <td>大华会计师事务所（特殊普通合伙）</td>\n      <td>北京市天元律师事务所</td>\n      <td>2015-09-07</td>\n      <td>已反馈</td>\n      <td>是</td>\n      <td>中止审查</td>\n    </tr>\n    <tr>\n      <td>4</td>\n      <td>浙江绍兴瑞丰农村商业银行</td>\n      <td>中信建投证券股份有限公司</td>\n      <td>立信会计师事务所（特殊普通合伙）</td>\n      <td>江苏世纪同仁律师事务所</td>\n      <td>2016-11-08</td>\n      <td>已通过发审会</td>\n      <td>是</td>\n      <td>NaN</td>\n    </tr>\n    <tr>\n      <td>5</td>\n      <td>毛戈平化妆品</td>\n      <td>长江证券承销保荐有限公司</td>\n      <td>天健会计师事务所（特殊普通合伙）</td>\n      <td>北京国枫律师事务所</td>\n      <td>2016-12-22</td>\n      <td>预先披露更新</td>\n      <td>是</td>\n      <td>NaN</td>\n    </tr>\n  </tbody>\n</table>\n</div>"
     },
     "metadata": {},
     "execution_count": 311
    }
   ],
   "source": [
    "csrc =  pd.read_excel('C:/Users/chen/Desktop/IPO_info/P020210122657813200711.xls',skiprows=[0,1],index_col='序号',skipfooter=1)\n",
    "csrc.head()"
   ]
  },
  {
   "cell_type": "code",
   "execution_count": 312,
   "metadata": {},
   "outputs": [
    {
     "output_type": "execute_result",
     "data": {
      "text/plain": [
       "['乔丹体育',\n",
       " '中银国际证券有限责任公司',\n",
       " '安永华明会计师事务所（特殊普通合伙)',\n",
       " '福建至理律师事务所',\n",
       " Timestamp('2010-09-15 00:00:00'),\n",
       " '已通过发审会',\n",
       " '是',\n",
       " nan]"
      ]
     },
     "metadata": {},
     "execution_count": 312
    }
   ],
   "source": [
    "kk = csrc.values.tolist()\n",
    "kk[0]"
   ]
  },
  {
   "cell_type": "code",
   "execution_count": 319,
   "metadata": {},
   "outputs": [],
   "source": [
    "from datetime import datetime\n",
    "import re\n",
    "for i in kk:\n",
    "    i[0] = re.sub(r\"\\*\", \"\", i[0])\n",
    "    if i[0] in abc:\n",
    "        abc[i[0]]['保荐机构'] = i[1]\n",
    "        abc[i[0]]['律师事务所'] = i[3]\n",
    "        abc[i[0]]['会计师事务所'] = i[2]\n",
    "        abc[i[0]]['预先披露'] = i[4].strftime('%Y-%m-%d')\n",
    "        if i[5] == '已上发审会，暂缓表决' or i[5] == '已提交发审会讨论，暂缓表决':\n",
    "            abc[i[0]]['其他'] = {i[5]:datetime.today().strftime('%Y-%m-%d')}\n",
    "        elif i[5] != '已受理' and abc[i[0]][i[5]] == '':\n",
    "            abc[i[0]][i[5]] = datetime.today().strftime('%Y-%m-%d')\n",
    "        if i[-1] == i[-1]:\n",
    "            abc[i[0]]['其他'] = {i[-1]:datetime.today().strftime('%Y-%m-%d')}\n",
    "    else:\n",
    "        print(i[0])"
   ]
  },
  {
   "cell_type": "code",
   "execution_count": 321,
   "metadata": {},
   "outputs": [
    {
     "output_type": "execute_result",
     "data": {
      "text/plain": [
       "{'机构名称': '安徽太平洋电缆',\n",
       " '预先披露': '2017/6/22',\n",
       " '已反馈': '2017/10/12',\n",
       " '预先披露更新': '',\n",
       " '其他': '',\n",
       " '已通过发审会': '',\n",
       " '终止审查': '',\n",
       " '保荐机构': '申万宏源证券承销保荐有限责任公司',\n",
       " '律师事务所': '安徽天禾律师事务所',\n",
       " '会计师事务所': '瑞华会计师事务所（特殊普通合伙）',\n",
       " '板块': '主板企业',\n",
       " '简称': 'ahtpydlgfyxgs'}"
      ]
     },
     "metadata": {},
     "execution_count": 321
    }
   ],
   "source": [
    "abc['安徽太平洋电缆']"
   ]
  },
  {
   "cell_type": "code",
   "execution_count": 297,
   "metadata": {},
   "outputs": [
    {
     "output_type": "execute_result",
     "data": {
      "text/plain": [
       "'新疆派特罗尔能源服务'"
      ]
     },
     "metadata": {},
     "execution_count": 297
    }
   ],
   "source": [
    "import re\n",
    "line = re.sub(r\"\\*\", \"\", '新疆派特罗尔能源服务*')\n",
    "line"
   ]
  }
 ]
}