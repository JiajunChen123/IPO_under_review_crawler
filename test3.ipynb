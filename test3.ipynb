{
 "metadata": {
  "language_info": {
   "codemirror_mode": {
    "name": "ipython",
    "version": 3
   },
   "file_extension": ".py",
   "mimetype": "text/x-python",
   "name": "python",
   "nbconvert_exporter": "python",
   "pygments_lexer": "ipython3",
   "version": "3.7.4-final"
  },
  "orig_nbformat": 2,
  "kernelspec": {
   "name": "python3",
   "display_name": "Python 3",
   "language": "python"
  }
 },
 "nbformat": 4,
 "nbformat_minor": 2,
 "cells": [
  {
   "cell_type": "code",
   "execution_count": 1,
   "metadata": {},
   "outputs": [
    {
     "output_type": "stream",
     "name": "stdout",
     "text": [
      "Downloading date: https://datainterface.eastmoney.com/EM_DataCenter/JS.aspx?type=NS&sty=NSFR&st=1&sr=-1&p=1&ps=5000&js=var+IBhynDx%3D%7Bpages%3A%28pc%29%2Cdata%3A%5B%28x%29%5D%7D&mkt=1&rt=53721774&fd=2017-01-05\n",
      "Downloading date: https://datainterface.eastmoney.com/EM_DataCenter/JS.aspx?type=NS&sty=NSFR&st=1&sr=-1&p=1&ps=5000&js=var+IBhynDx%3D%7Bpages%3A%28pc%29%2Cdata%3A%5B%28x%29%5D%7D&mkt=1&rt=53721774&fd=2017-01-12\n",
      "Downloading date: https://datainterface.eastmoney.com/EM_DataCenter/JS.aspx?type=NS&sty=NSFR&st=1&sr=-1&p=1&ps=5000&js=var+IBhynDx%3D%7Bpages%3A%28pc%29%2Cdata%3A%5B%28x%29%5D%7D&mkt=1&rt=53721774&fd=2017-01-19\n",
      "Downloading date: https://datainterface.eastmoney.com/EM_DataCenter/JS.aspx?type=NS&sty=NSFR&st=1&sr=-1&p=1&ps=5000&js=var+IBhynDx%3D%7Bpages%3A%28pc%29%2Cdata%3A%5B%28x%29%5D%7D&mkt=1&rt=53721774&fd=2017-01-26\n",
      "Downloading date: https://datainterface.eastmoney.com/EM_DataCenter/JS.aspx?type=NS&sty=NSFR&st=1&sr=-1&p=1&ps=5000&js=var+IBhynDx%3D%7Bpages%3A%28pc%29%2Cdata%3A%5B%28x%29%5D%7D&mkt=1&rt=53721774&fd=2017-02-02\n",
      "Downloading date: https://datainterface.eastmoney.com/EM_DataCenter/JS.aspx?type=NS&sty=NSFR&st=1&sr=-1&p=1&ps=5000&js=var+IBhynDx%3D%7Bpages%3A%28pc%29%2Cdata%3A%5B%28x%29%5D%7D&mkt=1&rt=53721774&fd=2017-02-09\n",
      "Downloading date: https://datainterface.eastmoney.com/EM_DataCenter/JS.aspx?type=NS&sty=NSFR&st=1&sr=-1&p=1&ps=5000&js=var+IBhynDx%3D%7Bpages%3A%28pc%29%2Cdata%3A%5B%28x%29%5D%7D&mkt=1&rt=53721774&fd=2017-02-16\n",
      "Downloading date: https://datainterface.eastmoney.com/EM_DataCenter/JS.aspx?type=NS&sty=NSFR&st=1&sr=-1&p=1&ps=5000&js=var+IBhynDx%3D%7Bpages%3A%28pc%29%2Cdata%3A%5B%28x%29%5D%7D&mkt=1&rt=53721774&fd=2017-02-23\n",
      "Downloading date: https://datainterface.eastmoney.com/EM_DataCenter/JS.aspx?type=NS&sty=NSFR&st=1&sr=-1&p=1&ps=5000&js=var+IBhynDx%3D%7Bpages%3A%28pc%29%2Cdata%3A%5B%28x%29%5D%7D&mkt=1&rt=53721774&fd=2017-03-02\n",
      "Downloading date: https://datainterface.eastmoney.com/EM_DataCenter/JS.aspx?type=NS&sty=NSFR&st=1&sr=-1&p=1&ps=5000&js=var+IBhynDx%3D%7Bpages%3A%28pc%29%2Cdata%3A%5B%28x%29%5D%7D&mkt=1&rt=53721774&fd=2017-03-09\n",
      "Downloading date: https://datainterface.eastmoney.com/EM_DataCenter/JS.aspx?type=NS&sty=NSFR&st=1&sr=-1&p=1&ps=5000&js=var+IBhynDx%3D%7Bpages%3A%28pc%29%2Cdata%3A%5B%28x%29%5D%7D&mkt=1&rt=53721774&fd=2017-03-16\n",
      "Downloading date: https://datainterface.eastmoney.com/EM_DataCenter/JS.aspx?type=NS&sty=NSFR&st=1&sr=-1&p=1&ps=5000&js=var+IBhynDx%3D%7Bpages%3A%28pc%29%2Cdata%3A%5B%28x%29%5D%7D&mkt=1&rt=53721774&fd=2017-03-23\n",
      "Downloading date: https://datainterface.eastmoney.com/EM_DataCenter/JS.aspx?type=NS&sty=NSFR&st=1&sr=-1&p=1&ps=5000&js=var+IBhynDx%3D%7Bpages%3A%28pc%29%2Cdata%3A%5B%28x%29%5D%7D&mkt=1&rt=53721774&fd=2017-03-30\n",
      "Downloading date: https://datainterface.eastmoney.com/EM_DataCenter/JS.aspx?type=NS&sty=NSFR&st=1&sr=-1&p=1&ps=5000&js=var+IBhynDx%3D%7Bpages%3A%28pc%29%2Cdata%3A%5B%28x%29%5D%7D&mkt=1&rt=53721774&fd=2017-04-06\n",
      "Downloading date: https://datainterface.eastmoney.com/EM_DataCenter/JS.aspx?type=NS&sty=NSFR&st=1&sr=-1&p=1&ps=5000&js=var+IBhynDx%3D%7Bpages%3A%28pc%29%2Cdata%3A%5B%28x%29%5D%7D&mkt=1&rt=53721774&fd=2017-04-13\n",
      "Downloading date: https://datainterface.eastmoney.com/EM_DataCenter/JS.aspx?type=NS&sty=NSFR&st=1&sr=-1&p=1&ps=5000&js=var+IBhynDx%3D%7Bpages%3A%28pc%29%2Cdata%3A%5B%28x%29%5D%7D&mkt=1&rt=53721774&fd=2017-04-20\n",
      "Downloading date: https://datainterface.eastmoney.com/EM_DataCenter/JS.aspx?type=NS&sty=NSFR&st=1&sr=-1&p=1&ps=5000&js=var+IBhynDx%3D%7Bpages%3A%28pc%29%2Cdata%3A%5B%28x%29%5D%7D&mkt=1&rt=53721774&fd=2017-04-27\n",
      "Downloading date: https://datainterface.eastmoney.com/EM_DataCenter/JS.aspx?type=NS&sty=NSFR&st=1&sr=-1&p=1&ps=5000&js=var+IBhynDx%3D%7Bpages%3A%28pc%29%2Cdata%3A%5B%28x%29%5D%7D&mkt=1&rt=53721774&fd=2017-05-04\n",
      "Downloading date: https://datainterface.eastmoney.com/EM_DataCenter/JS.aspx?type=NS&sty=NSFR&st=1&sr=-1&p=1&ps=5000&js=var+IBhynDx%3D%7Bpages%3A%28pc%29%2Cdata%3A%5B%28x%29%5D%7D&mkt=1&rt=53721774&fd=2017-05-11\n",
      "Downloading date: https://datainterface.eastmoney.com/EM_DataCenter/JS.aspx?type=NS&sty=NSFR&st=1&sr=-1&p=1&ps=5000&js=var+IBhynDx%3D%7Bpages%3A%28pc%29%2Cdata%3A%5B%28x%29%5D%7D&mkt=1&rt=53721774&fd=2017-05-18\n",
      "Downloading date: https://datainterface.eastmoney.com/EM_DataCenter/JS.aspx?type=NS&sty=NSFR&st=1&sr=-1&p=1&ps=5000&js=var+IBhynDx%3D%7Bpages%3A%28pc%29%2Cdata%3A%5B%28x%29%5D%7D&mkt=1&rt=53721774&fd=2017-05-25\n",
      "Downloading date: https://datainterface.eastmoney.com/EM_DataCenter/JS.aspx?type=NS&sty=NSFR&st=1&sr=-1&p=1&ps=5000&js=var+IBhynDx%3D%7Bpages%3A%28pc%29%2Cdata%3A%5B%28x%29%5D%7D&mkt=1&rt=53721774&fd=2017-06-01\n",
      "Downloading date: https://datainterface.eastmoney.com/EM_DataCenter/JS.aspx?type=NS&sty=NSFR&st=1&sr=-1&p=1&ps=5000&js=var+IBhynDx%3D%7Bpages%3A%28pc%29%2Cdata%3A%5B%28x%29%5D%7D&mkt=1&rt=53721774&fd=2017-06-08\n",
      "Downloading date: https://datainterface.eastmoney.com/EM_DataCenter/JS.aspx?type=NS&sty=NSFR&st=1&sr=-1&p=1&ps=5000&js=var+IBhynDx%3D%7Bpages%3A%28pc%29%2Cdata%3A%5B%28x%29%5D%7D&mkt=1&rt=53721774&fd=2017-06-15\n",
      "Downloading date: https://datainterface.eastmoney.com/EM_DataCenter/JS.aspx?type=NS&sty=NSFR&st=1&sr=-1&p=1&ps=5000&js=var+IBhynDx%3D%7Bpages%3A%28pc%29%2Cdata%3A%5B%28x%29%5D%7D&mkt=1&rt=53721774&fd=2017-06-22\n",
      "Downloading date: https://datainterface.eastmoney.com/EM_DataCenter/JS.aspx?type=NS&sty=NSFR&st=1&sr=-1&p=1&ps=5000&js=var+IBhynDx%3D%7Bpages%3A%28pc%29%2Cdata%3A%5B%28x%29%5D%7D&mkt=1&rt=53721774&fd=2017-06-29\n",
      "Downloading date: https://datainterface.eastmoney.com/EM_DataCenter/JS.aspx?type=NS&sty=NSFR&st=1&sr=-1&p=1&ps=5000&js=var+IBhynDx%3D%7Bpages%3A%28pc%29%2Cdata%3A%5B%28x%29%5D%7D&mkt=1&rt=53721774&fd=2017-07-06\n",
      "Downloading date: https://datainterface.eastmoney.com/EM_DataCenter/JS.aspx?type=NS&sty=NSFR&st=1&sr=-1&p=1&ps=5000&js=var+IBhynDx%3D%7Bpages%3A%28pc%29%2Cdata%3A%5B%28x%29%5D%7D&mkt=1&rt=53721774&fd=2017-07-13\n",
      "Downloading date: https://datainterface.eastmoney.com/EM_DataCenter/JS.aspx?type=NS&sty=NSFR&st=1&sr=-1&p=1&ps=5000&js=var+IBhynDx%3D%7Bpages%3A%28pc%29%2Cdata%3A%5B%28x%29%5D%7D&mkt=1&rt=53721774&fd=2017-07-20\n",
      "Downloading date: https://datainterface.eastmoney.com/EM_DataCenter/JS.aspx?type=NS&sty=NSFR&st=1&sr=-1&p=1&ps=5000&js=var+IBhynDx%3D%7Bpages%3A%28pc%29%2Cdata%3A%5B%28x%29%5D%7D&mkt=1&rt=53721774&fd=2017-07-27\n",
      "Downloading date: https://datainterface.eastmoney.com/EM_DataCenter/JS.aspx?type=NS&sty=NSFR&st=1&sr=-1&p=1&ps=5000&js=var+IBhynDx%3D%7Bpages%3A%28pc%29%2Cdata%3A%5B%28x%29%5D%7D&mkt=1&rt=53721774&fd=2017-08-03\n",
      "Downloading date: https://datainterface.eastmoney.com/EM_DataCenter/JS.aspx?type=NS&sty=NSFR&st=1&sr=-1&p=1&ps=5000&js=var+IBhynDx%3D%7Bpages%3A%28pc%29%2Cdata%3A%5B%28x%29%5D%7D&mkt=1&rt=53721774&fd=2017-08-10\n",
      "Downloading date: https://datainterface.eastmoney.com/EM_DataCenter/JS.aspx?type=NS&sty=NSFR&st=1&sr=-1&p=1&ps=5000&js=var+IBhynDx%3D%7Bpages%3A%28pc%29%2Cdata%3A%5B%28x%29%5D%7D&mkt=1&rt=53721774&fd=2017-08-17\n",
      "Downloading date: https://datainterface.eastmoney.com/EM_DataCenter/JS.aspx?type=NS&sty=NSFR&st=1&sr=-1&p=1&ps=5000&js=var+IBhynDx%3D%7Bpages%3A%28pc%29%2Cdata%3A%5B%28x%29%5D%7D&mkt=1&rt=53721774&fd=2017-08-24\n",
      "Downloading date: https://datainterface.eastmoney.com/EM_DataCenter/JS.aspx?type=NS&sty=NSFR&st=1&sr=-1&p=1&ps=5000&js=var+IBhynDx%3D%7Bpages%3A%28pc%29%2Cdata%3A%5B%28x%29%5D%7D&mkt=1&rt=53721774&fd=2017-08-31\n",
      "Downloading date: https://datainterface.eastmoney.com/EM_DataCenter/JS.aspx?type=NS&sty=NSFR&st=1&sr=-1&p=1&ps=5000&js=var+IBhynDx%3D%7Bpages%3A%28pc%29%2Cdata%3A%5B%28x%29%5D%7D&mkt=1&rt=53721774&fd=2017-09-07\n",
      "Downloading date: https://datainterface.eastmoney.com/EM_DataCenter/JS.aspx?type=NS&sty=NSFR&st=1&sr=-1&p=1&ps=5000&js=var+IBhynDx%3D%7Bpages%3A%28pc%29%2Cdata%3A%5B%28x%29%5D%7D&mkt=1&rt=53721774&fd=2017-09-14\n",
      "Downloading date: https://datainterface.eastmoney.com/EM_DataCenter/JS.aspx?type=NS&sty=NSFR&st=1&sr=-1&p=1&ps=5000&js=var+IBhynDx%3D%7Bpages%3A%28pc%29%2Cdata%3A%5B%28x%29%5D%7D&mkt=1&rt=53721774&fd=2017-09-21\n",
      "Downloading date: https://datainterface.eastmoney.com/EM_DataCenter/JS.aspx?type=NS&sty=NSFR&st=1&sr=-1&p=1&ps=5000&js=var+IBhynDx%3D%7Bpages%3A%28pc%29%2Cdata%3A%5B%28x%29%5D%7D&mkt=1&rt=53721774&fd=2017-09-28\n",
      "Downloading date: https://datainterface.eastmoney.com/EM_DataCenter/JS.aspx?type=NS&sty=NSFR&st=1&sr=-1&p=1&ps=5000&js=var+IBhynDx%3D%7Bpages%3A%28pc%29%2Cdata%3A%5B%28x%29%5D%7D&mkt=1&rt=53721774&fd=2017-10-05\n",
      "Downloading date: https://datainterface.eastmoney.com/EM_DataCenter/JS.aspx?type=NS&sty=NSFR&st=1&sr=-1&p=1&ps=5000&js=var+IBhynDx%3D%7Bpages%3A%28pc%29%2Cdata%3A%5B%28x%29%5D%7D&mkt=1&rt=53721774&fd=2017-10-12\n",
      "Downloading date: https://datainterface.eastmoney.com/EM_DataCenter/JS.aspx?type=NS&sty=NSFR&st=1&sr=-1&p=1&ps=5000&js=var+IBhynDx%3D%7Bpages%3A%28pc%29%2Cdata%3A%5B%28x%29%5D%7D&mkt=1&rt=53721774&fd=2017-10-19\n",
      "Downloading date: https://datainterface.eastmoney.com/EM_DataCenter/JS.aspx?type=NS&sty=NSFR&st=1&sr=-1&p=1&ps=5000&js=var+IBhynDx%3D%7Bpages%3A%28pc%29%2Cdata%3A%5B%28x%29%5D%7D&mkt=1&rt=53721774&fd=2017-10-26\n",
      "Downloading date: https://datainterface.eastmoney.com/EM_DataCenter/JS.aspx?type=NS&sty=NSFR&st=1&sr=-1&p=1&ps=5000&js=var+IBhynDx%3D%7Bpages%3A%28pc%29%2Cdata%3A%5B%28x%29%5D%7D&mkt=1&rt=53721774&fd=2017-11-02\n",
      "Downloading date: https://datainterface.eastmoney.com/EM_DataCenter/JS.aspx?type=NS&sty=NSFR&st=1&sr=-1&p=1&ps=5000&js=var+IBhynDx%3D%7Bpages%3A%28pc%29%2Cdata%3A%5B%28x%29%5D%7D&mkt=1&rt=53721774&fd=2017-11-09\n",
      "Downloading date: https://datainterface.eastmoney.com/EM_DataCenter/JS.aspx?type=NS&sty=NSFR&st=1&sr=-1&p=1&ps=5000&js=var+IBhynDx%3D%7Bpages%3A%28pc%29%2Cdata%3A%5B%28x%29%5D%7D&mkt=1&rt=53721774&fd=2017-11-16\n",
      "Downloading date: https://datainterface.eastmoney.com/EM_DataCenter/JS.aspx?type=NS&sty=NSFR&st=1&sr=-1&p=1&ps=5000&js=var+IBhynDx%3D%7Bpages%3A%28pc%29%2Cdata%3A%5B%28x%29%5D%7D&mkt=1&rt=53721774&fd=2017-11-23\n",
      "Downloading date: https://datainterface.eastmoney.com/EM_DataCenter/JS.aspx?type=NS&sty=NSFR&st=1&sr=-1&p=1&ps=5000&js=var+IBhynDx%3D%7Bpages%3A%28pc%29%2Cdata%3A%5B%28x%29%5D%7D&mkt=1&rt=53721774&fd=2017-11-30\n",
      "Downloading date: https://datainterface.eastmoney.com/EM_DataCenter/JS.aspx?type=NS&sty=NSFR&st=1&sr=-1&p=1&ps=5000&js=var+IBhynDx%3D%7Bpages%3A%28pc%29%2Cdata%3A%5B%28x%29%5D%7D&mkt=1&rt=53721774&fd=2017-12-07\n",
      "Downloading date: https://datainterface.eastmoney.com/EM_DataCenter/JS.aspx?type=NS&sty=NSFR&st=1&sr=-1&p=1&ps=5000&js=var+IBhynDx%3D%7Bpages%3A%28pc%29%2Cdata%3A%5B%28x%29%5D%7D&mkt=1&rt=53721774&fd=2017-12-14\n",
      "Downloading date: https://datainterface.eastmoney.com/EM_DataCenter/JS.aspx?type=NS&sty=NSFR&st=1&sr=-1&p=1&ps=5000&js=var+IBhynDx%3D%7Bpages%3A%28pc%29%2Cdata%3A%5B%28x%29%5D%7D&mkt=1&rt=53721774&fd=2017-12-21\n",
      "Downloading date: https://datainterface.eastmoney.com/EM_DataCenter/JS.aspx?type=NS&sty=NSFR&st=1&sr=-1&p=1&ps=5000&js=var+IBhynDx%3D%7Bpages%3A%28pc%29%2Cdata%3A%5B%28x%29%5D%7D&mkt=1&rt=53721774&fd=2017-12-28\n",
      "Downloading date: https://datainterface.eastmoney.com/EM_DataCenter/JS.aspx?type=NS&sty=NSFR&st=1&sr=-1&p=1&ps=5000&js=var+IBhynDx%3D%7Bpages%3A%28pc%29%2Cdata%3A%5B%28x%29%5D%7D&mkt=1&rt=53721774&fd=2018-01-04\n",
      "Downloading date: https://datainterface.eastmoney.com/EM_DataCenter/JS.aspx?type=NS&sty=NSFR&st=1&sr=-1&p=1&ps=5000&js=var+IBhynDx%3D%7Bpages%3A%28pc%29%2Cdata%3A%5B%28x%29%5D%7D&mkt=1&rt=53721774&fd=2018-01-11\n",
      "Downloading date: https://datainterface.eastmoney.com/EM_DataCenter/JS.aspx?type=NS&sty=NSFR&st=1&sr=-1&p=1&ps=5000&js=var+IBhynDx%3D%7Bpages%3A%28pc%29%2Cdata%3A%5B%28x%29%5D%7D&mkt=1&rt=53721774&fd=2018-01-18\n",
      "Downloading date: https://datainterface.eastmoney.com/EM_DataCenter/JS.aspx?type=NS&sty=NSFR&st=1&sr=-1&p=1&ps=5000&js=var+IBhynDx%3D%7Bpages%3A%28pc%29%2Cdata%3A%5B%28x%29%5D%7D&mkt=1&rt=53721774&fd=2018-01-25\n",
      "Downloading date: https://datainterface.eastmoney.com/EM_DataCenter/JS.aspx?type=NS&sty=NSFR&st=1&sr=-1&p=1&ps=5000&js=var+IBhynDx%3D%7Bpages%3A%28pc%29%2Cdata%3A%5B%28x%29%5D%7D&mkt=1&rt=53721774&fd=2018-02-01\n",
      "Downloading date: https://datainterface.eastmoney.com/EM_DataCenter/JS.aspx?type=NS&sty=NSFR&st=1&sr=-1&p=1&ps=5000&js=var+IBhynDx%3D%7Bpages%3A%28pc%29%2Cdata%3A%5B%28x%29%5D%7D&mkt=1&rt=53721774&fd=2018-02-08\n",
      "Downloading date: https://datainterface.eastmoney.com/EM_DataCenter/JS.aspx?type=NS&sty=NSFR&st=1&sr=-1&p=1&ps=5000&js=var+IBhynDx%3D%7Bpages%3A%28pc%29%2Cdata%3A%5B%28x%29%5D%7D&mkt=1&rt=53721774&fd=2018-02-15\n",
      "Downloading date: https://datainterface.eastmoney.com/EM_DataCenter/JS.aspx?type=NS&sty=NSFR&st=1&sr=-1&p=1&ps=5000&js=var+IBhynDx%3D%7Bpages%3A%28pc%29%2Cdata%3A%5B%28x%29%5D%7D&mkt=1&rt=53721774&fd=2018-02-22\n",
      "Downloading date: https://datainterface.eastmoney.com/EM_DataCenter/JS.aspx?type=NS&sty=NSFR&st=1&sr=-1&p=1&ps=5000&js=var+IBhynDx%3D%7Bpages%3A%28pc%29%2Cdata%3A%5B%28x%29%5D%7D&mkt=1&rt=53721774&fd=2018-03-01\n",
      "Downloading date: https://datainterface.eastmoney.com/EM_DataCenter/JS.aspx?type=NS&sty=NSFR&st=1&sr=-1&p=1&ps=5000&js=var+IBhynDx%3D%7Bpages%3A%28pc%29%2Cdata%3A%5B%28x%29%5D%7D&mkt=1&rt=53721774&fd=2018-03-08\n",
      "Downloading date: https://datainterface.eastmoney.com/EM_DataCenter/JS.aspx?type=NS&sty=NSFR&st=1&sr=-1&p=1&ps=5000&js=var+IBhynDx%3D%7Bpages%3A%28pc%29%2Cdata%3A%5B%28x%29%5D%7D&mkt=1&rt=53721774&fd=2018-03-15\n",
      "Downloading date: https://datainterface.eastmoney.com/EM_DataCenter/JS.aspx?type=NS&sty=NSFR&st=1&sr=-1&p=1&ps=5000&js=var+IBhynDx%3D%7Bpages%3A%28pc%29%2Cdata%3A%5B%28x%29%5D%7D&mkt=1&rt=53721774&fd=2018-03-22\n",
      "Downloading date: https://datainterface.eastmoney.com/EM_DataCenter/JS.aspx?type=NS&sty=NSFR&st=1&sr=-1&p=1&ps=5000&js=var+IBhynDx%3D%7Bpages%3A%28pc%29%2Cdata%3A%5B%28x%29%5D%7D&mkt=1&rt=53721774&fd=2018-03-29\n",
      "Downloading date: https://datainterface.eastmoney.com/EM_DataCenter/JS.aspx?type=NS&sty=NSFR&st=1&sr=-1&p=1&ps=5000&js=var+IBhynDx%3D%7Bpages%3A%28pc%29%2Cdata%3A%5B%28x%29%5D%7D&mkt=1&rt=53721774&fd=2018-04-05\n",
      "Downloading date: https://datainterface.eastmoney.com/EM_DataCenter/JS.aspx?type=NS&sty=NSFR&st=1&sr=-1&p=1&ps=5000&js=var+IBhynDx%3D%7Bpages%3A%28pc%29%2Cdata%3A%5B%28x%29%5D%7D&mkt=1&rt=53721774&fd=2018-04-12\n",
      "Downloading date: https://datainterface.eastmoney.com/EM_DataCenter/JS.aspx?type=NS&sty=NSFR&st=1&sr=-1&p=1&ps=5000&js=var+IBhynDx%3D%7Bpages%3A%28pc%29%2Cdata%3A%5B%28x%29%5D%7D&mkt=1&rt=53721774&fd=2018-04-19\n",
      "Downloading date: https://datainterface.eastmoney.com/EM_DataCenter/JS.aspx?type=NS&sty=NSFR&st=1&sr=-1&p=1&ps=5000&js=var+IBhynDx%3D%7Bpages%3A%28pc%29%2Cdata%3A%5B%28x%29%5D%7D&mkt=1&rt=53721774&fd=2018-04-26\n",
      "Downloading date: https://datainterface.eastmoney.com/EM_DataCenter/JS.aspx?type=NS&sty=NSFR&st=1&sr=-1&p=1&ps=5000&js=var+IBhynDx%3D%7Bpages%3A%28pc%29%2Cdata%3A%5B%28x%29%5D%7D&mkt=1&rt=53721774&fd=2018-05-03\n",
      "Downloading date: https://datainterface.eastmoney.com/EM_DataCenter/JS.aspx?type=NS&sty=NSFR&st=1&sr=-1&p=1&ps=5000&js=var+IBhynDx%3D%7Bpages%3A%28pc%29%2Cdata%3A%5B%28x%29%5D%7D&mkt=1&rt=53721774&fd=2018-05-10\n",
      "Downloading date: https://datainterface.eastmoney.com/EM_DataCenter/JS.aspx?type=NS&sty=NSFR&st=1&sr=-1&p=1&ps=5000&js=var+IBhynDx%3D%7Bpages%3A%28pc%29%2Cdata%3A%5B%28x%29%5D%7D&mkt=1&rt=53721774&fd=2018-05-17\n",
      "Downloading date: https://datainterface.eastmoney.com/EM_DataCenter/JS.aspx?type=NS&sty=NSFR&st=1&sr=-1&p=1&ps=5000&js=var+IBhynDx%3D%7Bpages%3A%28pc%29%2Cdata%3A%5B%28x%29%5D%7D&mkt=1&rt=53721774&fd=2018-05-24\n",
      "Downloading date: https://datainterface.eastmoney.com/EM_DataCenter/JS.aspx?type=NS&sty=NSFR&st=1&sr=-1&p=1&ps=5000&js=var+IBhynDx%3D%7Bpages%3A%28pc%29%2Cdata%3A%5B%28x%29%5D%7D&mkt=1&rt=53721774&fd=2018-05-31\n",
      "Downloading date: https://datainterface.eastmoney.com/EM_DataCenter/JS.aspx?type=NS&sty=NSFR&st=1&sr=-1&p=1&ps=5000&js=var+IBhynDx%3D%7Bpages%3A%28pc%29%2Cdata%3A%5B%28x%29%5D%7D&mkt=1&rt=53721774&fd=2018-06-07\n",
      "Downloading date: https://datainterface.eastmoney.com/EM_DataCenter/JS.aspx?type=NS&sty=NSFR&st=1&sr=-1&p=1&ps=5000&js=var+IBhynDx%3D%7Bpages%3A%28pc%29%2Cdata%3A%5B%28x%29%5D%7D&mkt=1&rt=53721774&fd=2018-06-14\n",
      "Downloading date: https://datainterface.eastmoney.com/EM_DataCenter/JS.aspx?type=NS&sty=NSFR&st=1&sr=-1&p=1&ps=5000&js=var+IBhynDx%3D%7Bpages%3A%28pc%29%2Cdata%3A%5B%28x%29%5D%7D&mkt=1&rt=53721774&fd=2018-06-21\n",
      "Downloading date: https://datainterface.eastmoney.com/EM_DataCenter/JS.aspx?type=NS&sty=NSFR&st=1&sr=-1&p=1&ps=5000&js=var+IBhynDx%3D%7Bpages%3A%28pc%29%2Cdata%3A%5B%28x%29%5D%7D&mkt=1&rt=53721774&fd=2018-06-28\n",
      "Downloading date: https://datainterface.eastmoney.com/EM_DataCenter/JS.aspx?type=NS&sty=NSFR&st=1&sr=-1&p=1&ps=5000&js=var+IBhynDx%3D%7Bpages%3A%28pc%29%2Cdata%3A%5B%28x%29%5D%7D&mkt=1&rt=53721774&fd=2018-07-05\n",
      "Downloading date: https://datainterface.eastmoney.com/EM_DataCenter/JS.aspx?type=NS&sty=NSFR&st=1&sr=-1&p=1&ps=5000&js=var+IBhynDx%3D%7Bpages%3A%28pc%29%2Cdata%3A%5B%28x%29%5D%7D&mkt=1&rt=53721774&fd=2018-07-12\n",
      "Downloading date: https://datainterface.eastmoney.com/EM_DataCenter/JS.aspx?type=NS&sty=NSFR&st=1&sr=-1&p=1&ps=5000&js=var+IBhynDx%3D%7Bpages%3A%28pc%29%2Cdata%3A%5B%28x%29%5D%7D&mkt=1&rt=53721774&fd=2018-07-19\n",
      "Downloading date: https://datainterface.eastmoney.com/EM_DataCenter/JS.aspx?type=NS&sty=NSFR&st=1&sr=-1&p=1&ps=5000&js=var+IBhynDx%3D%7Bpages%3A%28pc%29%2Cdata%3A%5B%28x%29%5D%7D&mkt=1&rt=53721774&fd=2018-07-26\n",
      "Downloading date: https://datainterface.eastmoney.com/EM_DataCenter/JS.aspx?type=NS&sty=NSFR&st=1&sr=-1&p=1&ps=5000&js=var+IBhynDx%3D%7Bpages%3A%28pc%29%2Cdata%3A%5B%28x%29%5D%7D&mkt=1&rt=53721774&fd=2018-08-02\n",
      "Downloading date: https://datainterface.eastmoney.com/EM_DataCenter/JS.aspx?type=NS&sty=NSFR&st=1&sr=-1&p=1&ps=5000&js=var+IBhynDx%3D%7Bpages%3A%28pc%29%2Cdata%3A%5B%28x%29%5D%7D&mkt=1&rt=53721774&fd=2018-08-09\n",
      "Downloading date: https://datainterface.eastmoney.com/EM_DataCenter/JS.aspx?type=NS&sty=NSFR&st=1&sr=-1&p=1&ps=5000&js=var+IBhynDx%3D%7Bpages%3A%28pc%29%2Cdata%3A%5B%28x%29%5D%7D&mkt=1&rt=53721774&fd=2018-08-16\n",
      "Downloading date: https://datainterface.eastmoney.com/EM_DataCenter/JS.aspx?type=NS&sty=NSFR&st=1&sr=-1&p=1&ps=5000&js=var+IBhynDx%3D%7Bpages%3A%28pc%29%2Cdata%3A%5B%28x%29%5D%7D&mkt=1&rt=53721774&fd=2018-08-23\n",
      "Downloading date: https://datainterface.eastmoney.com/EM_DataCenter/JS.aspx?type=NS&sty=NSFR&st=1&sr=-1&p=1&ps=5000&js=var+IBhynDx%3D%7Bpages%3A%28pc%29%2Cdata%3A%5B%28x%29%5D%7D&mkt=1&rt=53721774&fd=2018-08-30\n",
      "Downloading date: https://datainterface.eastmoney.com/EM_DataCenter/JS.aspx?type=NS&sty=NSFR&st=1&sr=-1&p=1&ps=5000&js=var+IBhynDx%3D%7Bpages%3A%28pc%29%2Cdata%3A%5B%28x%29%5D%7D&mkt=1&rt=53721774&fd=2018-09-06\n",
      "Downloading date: https://datainterface.eastmoney.com/EM_DataCenter/JS.aspx?type=NS&sty=NSFR&st=1&sr=-1&p=1&ps=5000&js=var+IBhynDx%3D%7Bpages%3A%28pc%29%2Cdata%3A%5B%28x%29%5D%7D&mkt=1&rt=53721774&fd=2018-09-13\n",
      "Downloading date: https://datainterface.eastmoney.com/EM_DataCenter/JS.aspx?type=NS&sty=NSFR&st=1&sr=-1&p=1&ps=5000&js=var+IBhynDx%3D%7Bpages%3A%28pc%29%2Cdata%3A%5B%28x%29%5D%7D&mkt=1&rt=53721774&fd=2018-09-20\n",
      "Downloading date: https://datainterface.eastmoney.com/EM_DataCenter/JS.aspx?type=NS&sty=NSFR&st=1&sr=-1&p=1&ps=5000&js=var+IBhynDx%3D%7Bpages%3A%28pc%29%2Cdata%3A%5B%28x%29%5D%7D&mkt=1&rt=53721774&fd=2018-09-27\n",
      "Downloading date: https://datainterface.eastmoney.com/EM_DataCenter/JS.aspx?type=NS&sty=NSFR&st=1&sr=-1&p=1&ps=5000&js=var+IBhynDx%3D%7Bpages%3A%28pc%29%2Cdata%3A%5B%28x%29%5D%7D&mkt=1&rt=53721774&fd=2018-10-04\n",
      "Downloading date: https://datainterface.eastmoney.com/EM_DataCenter/JS.aspx?type=NS&sty=NSFR&st=1&sr=-1&p=1&ps=5000&js=var+IBhynDx%3D%7Bpages%3A%28pc%29%2Cdata%3A%5B%28x%29%5D%7D&mkt=1&rt=53721774&fd=2018-10-11\n",
      "Downloading date: https://datainterface.eastmoney.com/EM_DataCenter/JS.aspx?type=NS&sty=NSFR&st=1&sr=-1&p=1&ps=5000&js=var+IBhynDx%3D%7Bpages%3A%28pc%29%2Cdata%3A%5B%28x%29%5D%7D&mkt=1&rt=53721774&fd=2018-10-18\n",
      "Downloading date: https://datainterface.eastmoney.com/EM_DataCenter/JS.aspx?type=NS&sty=NSFR&st=1&sr=-1&p=1&ps=5000&js=var+IBhynDx%3D%7Bpages%3A%28pc%29%2Cdata%3A%5B%28x%29%5D%7D&mkt=1&rt=53721774&fd=2018-10-25\n",
      "Downloading date: https://datainterface.eastmoney.com/EM_DataCenter/JS.aspx?type=NS&sty=NSFR&st=1&sr=-1&p=1&ps=5000&js=var+IBhynDx%3D%7Bpages%3A%28pc%29%2Cdata%3A%5B%28x%29%5D%7D&mkt=1&rt=53721774&fd=2018-11-01\n",
      "Downloading date: https://datainterface.eastmoney.com/EM_DataCenter/JS.aspx?type=NS&sty=NSFR&st=1&sr=-1&p=1&ps=5000&js=var+IBhynDx%3D%7Bpages%3A%28pc%29%2Cdata%3A%5B%28x%29%5D%7D&mkt=1&rt=53721774&fd=2018-11-08\n",
      "Downloading date: https://datainterface.eastmoney.com/EM_DataCenter/JS.aspx?type=NS&sty=NSFR&st=1&sr=-1&p=1&ps=5000&js=var+IBhynDx%3D%7Bpages%3A%28pc%29%2Cdata%3A%5B%28x%29%5D%7D&mkt=1&rt=53721774&fd=2018-11-15\n",
      "Downloading date: https://datainterface.eastmoney.com/EM_DataCenter/JS.aspx?type=NS&sty=NSFR&st=1&sr=-1&p=1&ps=5000&js=var+IBhynDx%3D%7Bpages%3A%28pc%29%2Cdata%3A%5B%28x%29%5D%7D&mkt=1&rt=53721774&fd=2018-11-22\n",
      "Downloading date: https://datainterface.eastmoney.com/EM_DataCenter/JS.aspx?type=NS&sty=NSFR&st=1&sr=-1&p=1&ps=5000&js=var+IBhynDx%3D%7Bpages%3A%28pc%29%2Cdata%3A%5B%28x%29%5D%7D&mkt=1&rt=53721774&fd=2018-11-29\n",
      "Downloading date: https://datainterface.eastmoney.com/EM_DataCenter/JS.aspx?type=NS&sty=NSFR&st=1&sr=-1&p=1&ps=5000&js=var+IBhynDx%3D%7Bpages%3A%28pc%29%2Cdata%3A%5B%28x%29%5D%7D&mkt=1&rt=53721774&fd=2018-12-06\n",
      "Downloading date: https://datainterface.eastmoney.com/EM_DataCenter/JS.aspx?type=NS&sty=NSFR&st=1&sr=-1&p=1&ps=5000&js=var+IBhynDx%3D%7Bpages%3A%28pc%29%2Cdata%3A%5B%28x%29%5D%7D&mkt=1&rt=53721774&fd=2018-12-13\n",
      "Downloading date: https://datainterface.eastmoney.com/EM_DataCenter/JS.aspx?type=NS&sty=NSFR&st=1&sr=-1&p=1&ps=5000&js=var+IBhynDx%3D%7Bpages%3A%28pc%29%2Cdata%3A%5B%28x%29%5D%7D&mkt=1&rt=53721774&fd=2018-12-20\n",
      "Downloading date: https://datainterface.eastmoney.com/EM_DataCenter/JS.aspx?type=NS&sty=NSFR&st=1&sr=-1&p=1&ps=5000&js=var+IBhynDx%3D%7Bpages%3A%28pc%29%2Cdata%3A%5B%28x%29%5D%7D&mkt=1&rt=53721774&fd=2018-12-27\n",
      "Downloading date: https://datainterface.eastmoney.com/EM_DataCenter/JS.aspx?type=NS&sty=NSFR&st=1&sr=-1&p=1&ps=5000&js=var+IBhynDx%3D%7Bpages%3A%28pc%29%2Cdata%3A%5B%28x%29%5D%7D&mkt=1&rt=53721774&fd=2019-01-03\n",
      "Downloading date: https://datainterface.eastmoney.com/EM_DataCenter/JS.aspx?type=NS&sty=NSFR&st=1&sr=-1&p=1&ps=5000&js=var+IBhynDx%3D%7Bpages%3A%28pc%29%2Cdata%3A%5B%28x%29%5D%7D&mkt=1&rt=53721774&fd=2019-01-10\n",
      "Downloading date: https://datainterface.eastmoney.com/EM_DataCenter/JS.aspx?type=NS&sty=NSFR&st=1&sr=-1&p=1&ps=5000&js=var+IBhynDx%3D%7Bpages%3A%28pc%29%2Cdata%3A%5B%28x%29%5D%7D&mkt=1&rt=53721774&fd=2019-01-17\n",
      "Downloading date: https://datainterface.eastmoney.com/EM_DataCenter/JS.aspx?type=NS&sty=NSFR&st=1&sr=-1&p=1&ps=5000&js=var+IBhynDx%3D%7Bpages%3A%28pc%29%2Cdata%3A%5B%28x%29%5D%7D&mkt=1&rt=53721774&fd=2019-01-24\n",
      "Downloading date: https://datainterface.eastmoney.com/EM_DataCenter/JS.aspx?type=NS&sty=NSFR&st=1&sr=-1&p=1&ps=5000&js=var+IBhynDx%3D%7Bpages%3A%28pc%29%2Cdata%3A%5B%28x%29%5D%7D&mkt=1&rt=53721774&fd=2019-01-31\n",
      "Downloading date: https://datainterface.eastmoney.com/EM_DataCenter/JS.aspx?type=NS&sty=NSFR&st=1&sr=-1&p=1&ps=5000&js=var+IBhynDx%3D%7Bpages%3A%28pc%29%2Cdata%3A%5B%28x%29%5D%7D&mkt=1&rt=53721774&fd=2019-02-07\n",
      "Downloading date: https://datainterface.eastmoney.com/EM_DataCenter/JS.aspx?type=NS&sty=NSFR&st=1&sr=-1&p=1&ps=5000&js=var+IBhynDx%3D%7Bpages%3A%28pc%29%2Cdata%3A%5B%28x%29%5D%7D&mkt=1&rt=53721774&fd=2019-02-14\n",
      "Downloading date: https://datainterface.eastmoney.com/EM_DataCenter/JS.aspx?type=NS&sty=NSFR&st=1&sr=-1&p=1&ps=5000&js=var+IBhynDx%3D%7Bpages%3A%28pc%29%2Cdata%3A%5B%28x%29%5D%7D&mkt=1&rt=53721774&fd=2019-02-21\n",
      "Downloading date: https://datainterface.eastmoney.com/EM_DataCenter/JS.aspx?type=NS&sty=NSFR&st=1&sr=-1&p=1&ps=5000&js=var+IBhynDx%3D%7Bpages%3A%28pc%29%2Cdata%3A%5B%28x%29%5D%7D&mkt=1&rt=53721774&fd=2019-02-28\n",
      "Downloading date: https://datainterface.eastmoney.com/EM_DataCenter/JS.aspx?type=NS&sty=NSFR&st=1&sr=-1&p=1&ps=5000&js=var+IBhynDx%3D%7Bpages%3A%28pc%29%2Cdata%3A%5B%28x%29%5D%7D&mkt=1&rt=53721774&fd=2019-03-07\n",
      "Downloading date: https://datainterface.eastmoney.com/EM_DataCenter/JS.aspx?type=NS&sty=NSFR&st=1&sr=-1&p=1&ps=5000&js=var+IBhynDx%3D%7Bpages%3A%28pc%29%2Cdata%3A%5B%28x%29%5D%7D&mkt=1&rt=53721774&fd=2019-03-14\n",
      "Downloading date: https://datainterface.eastmoney.com/EM_DataCenter/JS.aspx?type=NS&sty=NSFR&st=1&sr=-1&p=1&ps=5000&js=var+IBhynDx%3D%7Bpages%3A%28pc%29%2Cdata%3A%5B%28x%29%5D%7D&mkt=1&rt=53721774&fd=2019-03-21\n",
      "Downloading date: https://datainterface.eastmoney.com/EM_DataCenter/JS.aspx?type=NS&sty=NSFR&st=1&sr=-1&p=1&ps=5000&js=var+IBhynDx%3D%7Bpages%3A%28pc%29%2Cdata%3A%5B%28x%29%5D%7D&mkt=1&rt=53721774&fd=2019-03-28\n",
      "Downloading date: https://datainterface.eastmoney.com/EM_DataCenter/JS.aspx?type=NS&sty=NSFR&st=1&sr=-1&p=1&ps=5000&js=var+IBhynDx%3D%7Bpages%3A%28pc%29%2Cdata%3A%5B%28x%29%5D%7D&mkt=1&rt=53721774&fd=2019-04-04\n",
      "Downloading date: https://datainterface.eastmoney.com/EM_DataCenter/JS.aspx?type=NS&sty=NSFR&st=1&sr=-1&p=1&ps=5000&js=var+IBhynDx%3D%7Bpages%3A%28pc%29%2Cdata%3A%5B%28x%29%5D%7D&mkt=1&rt=53721774&fd=2019-04-11\n",
      "Downloading date: https://datainterface.eastmoney.com/EM_DataCenter/JS.aspx?type=NS&sty=NSFR&st=1&sr=-1&p=1&ps=5000&js=var+IBhynDx%3D%7Bpages%3A%28pc%29%2Cdata%3A%5B%28x%29%5D%7D&mkt=1&rt=53721774&fd=2019-04-18\n",
      "Downloading date: https://datainterface.eastmoney.com/EM_DataCenter/JS.aspx?type=NS&sty=NSFR&st=1&sr=-1&p=1&ps=5000&js=var+IBhynDx%3D%7Bpages%3A%28pc%29%2Cdata%3A%5B%28x%29%5D%7D&mkt=1&rt=53721774&fd=2019-04-25\n",
      "Downloading date: https://datainterface.eastmoney.com/EM_DataCenter/JS.aspx?type=NS&sty=NSFR&st=1&sr=-1&p=1&ps=5000&js=var+IBhynDx%3D%7Bpages%3A%28pc%29%2Cdata%3A%5B%28x%29%5D%7D&mkt=1&rt=53721774&fd=2019-05-02\n",
      "Downloading date: https://datainterface.eastmoney.com/EM_DataCenter/JS.aspx?type=NS&sty=NSFR&st=1&sr=-1&p=1&ps=5000&js=var+IBhynDx%3D%7Bpages%3A%28pc%29%2Cdata%3A%5B%28x%29%5D%7D&mkt=1&rt=53721774&fd=2019-05-09\n",
      "Downloading date: https://datainterface.eastmoney.com/EM_DataCenter/JS.aspx?type=NS&sty=NSFR&st=1&sr=-1&p=1&ps=5000&js=var+IBhynDx%3D%7Bpages%3A%28pc%29%2Cdata%3A%5B%28x%29%5D%7D&mkt=1&rt=53721774&fd=2019-05-16\n",
      "Downloading date: https://datainterface.eastmoney.com/EM_DataCenter/JS.aspx?type=NS&sty=NSFR&st=1&sr=-1&p=1&ps=5000&js=var+IBhynDx%3D%7Bpages%3A%28pc%29%2Cdata%3A%5B%28x%29%5D%7D&mkt=1&rt=53721774&fd=2019-05-23\n",
      "Downloading date: https://datainterface.eastmoney.com/EM_DataCenter/JS.aspx?type=NS&sty=NSFR&st=1&sr=-1&p=1&ps=5000&js=var+IBhynDx%3D%7Bpages%3A%28pc%29%2Cdata%3A%5B%28x%29%5D%7D&mkt=1&rt=53721774&fd=2019-05-30\n",
      "Downloading date: https://datainterface.eastmoney.com/EM_DataCenter/JS.aspx?type=NS&sty=NSFR&st=1&sr=-1&p=1&ps=5000&js=var+IBhynDx%3D%7Bpages%3A%28pc%29%2Cdata%3A%5B%28x%29%5D%7D&mkt=1&rt=53721774&fd=2019-06-06\n",
      "Downloading date: https://datainterface.eastmoney.com/EM_DataCenter/JS.aspx?type=NS&sty=NSFR&st=1&sr=-1&p=1&ps=5000&js=var+IBhynDx%3D%7Bpages%3A%28pc%29%2Cdata%3A%5B%28x%29%5D%7D&mkt=1&rt=53721774&fd=2019-06-13\n",
      "Downloading date: https://datainterface.eastmoney.com/EM_DataCenter/JS.aspx?type=NS&sty=NSFR&st=1&sr=-1&p=1&ps=5000&js=var+IBhynDx%3D%7Bpages%3A%28pc%29%2Cdata%3A%5B%28x%29%5D%7D&mkt=1&rt=53721774&fd=2019-06-20\n",
      "Downloading date: https://datainterface.eastmoney.com/EM_DataCenter/JS.aspx?type=NS&sty=NSFR&st=1&sr=-1&p=1&ps=5000&js=var+IBhynDx%3D%7Bpages%3A%28pc%29%2Cdata%3A%5B%28x%29%5D%7D&mkt=1&rt=53721774&fd=2019-06-27\n",
      "Downloading date: https://datainterface.eastmoney.com/EM_DataCenter/JS.aspx?type=NS&sty=NSFR&st=1&sr=-1&p=1&ps=5000&js=var+IBhynDx%3D%7Bpages%3A%28pc%29%2Cdata%3A%5B%28x%29%5D%7D&mkt=1&rt=53721774&fd=2019-07-04\n",
      "Downloading date: https://datainterface.eastmoney.com/EM_DataCenter/JS.aspx?type=NS&sty=NSFR&st=1&sr=-1&p=1&ps=5000&js=var+IBhynDx%3D%7Bpages%3A%28pc%29%2Cdata%3A%5B%28x%29%5D%7D&mkt=1&rt=53721774&fd=2019-07-11\n",
      "Downloading date: https://datainterface.eastmoney.com/EM_DataCenter/JS.aspx?type=NS&sty=NSFR&st=1&sr=-1&p=1&ps=5000&js=var+IBhynDx%3D%7Bpages%3A%28pc%29%2Cdata%3A%5B%28x%29%5D%7D&mkt=1&rt=53721774&fd=2019-07-18\n",
      "Downloading date: https://datainterface.eastmoney.com/EM_DataCenter/JS.aspx?type=NS&sty=NSFR&st=1&sr=-1&p=1&ps=5000&js=var+IBhynDx%3D%7Bpages%3A%28pc%29%2Cdata%3A%5B%28x%29%5D%7D&mkt=1&rt=53721774&fd=2019-07-25\n",
      "Downloading date: https://datainterface.eastmoney.com/EM_DataCenter/JS.aspx?type=NS&sty=NSFR&st=1&sr=-1&p=1&ps=5000&js=var+IBhynDx%3D%7Bpages%3A%28pc%29%2Cdata%3A%5B%28x%29%5D%7D&mkt=1&rt=53721774&fd=2019-08-01\n",
      "Downloading date: https://datainterface.eastmoney.com/EM_DataCenter/JS.aspx?type=NS&sty=NSFR&st=1&sr=-1&p=1&ps=5000&js=var+IBhynDx%3D%7Bpages%3A%28pc%29%2Cdata%3A%5B%28x%29%5D%7D&mkt=1&rt=53721774&fd=2019-08-08\n",
      "Downloading date: https://datainterface.eastmoney.com/EM_DataCenter/JS.aspx?type=NS&sty=NSFR&st=1&sr=-1&p=1&ps=5000&js=var+IBhynDx%3D%7Bpages%3A%28pc%29%2Cdata%3A%5B%28x%29%5D%7D&mkt=1&rt=53721774&fd=2019-08-15\n",
      "Downloading date: https://datainterface.eastmoney.com/EM_DataCenter/JS.aspx?type=NS&sty=NSFR&st=1&sr=-1&p=1&ps=5000&js=var+IBhynDx%3D%7Bpages%3A%28pc%29%2Cdata%3A%5B%28x%29%5D%7D&mkt=1&rt=53721774&fd=2019-08-22\n",
      "Downloading date: https://datainterface.eastmoney.com/EM_DataCenter/JS.aspx?type=NS&sty=NSFR&st=1&sr=-1&p=1&ps=5000&js=var+IBhynDx%3D%7Bpages%3A%28pc%29%2Cdata%3A%5B%28x%29%5D%7D&mkt=1&rt=53721774&fd=2019-08-29\n",
      "Downloading date: https://datainterface.eastmoney.com/EM_DataCenter/JS.aspx?type=NS&sty=NSFR&st=1&sr=-1&p=1&ps=5000&js=var+IBhynDx%3D%7Bpages%3A%28pc%29%2Cdata%3A%5B%28x%29%5D%7D&mkt=1&rt=53721774&fd=2019-09-05\n",
      "Downloading date: https://datainterface.eastmoney.com/EM_DataCenter/JS.aspx?type=NS&sty=NSFR&st=1&sr=-1&p=1&ps=5000&js=var+IBhynDx%3D%7Bpages%3A%28pc%29%2Cdata%3A%5B%28x%29%5D%7D&mkt=1&rt=53721774&fd=2019-09-12\n",
      "Downloading date: https://datainterface.eastmoney.com/EM_DataCenter/JS.aspx?type=NS&sty=NSFR&st=1&sr=-1&p=1&ps=5000&js=var+IBhynDx%3D%7Bpages%3A%28pc%29%2Cdata%3A%5B%28x%29%5D%7D&mkt=1&rt=53721774&fd=2019-09-19\n",
      "Downloading date: https://datainterface.eastmoney.com/EM_DataCenter/JS.aspx?type=NS&sty=NSFR&st=1&sr=-1&p=1&ps=5000&js=var+IBhynDx%3D%7Bpages%3A%28pc%29%2Cdata%3A%5B%28x%29%5D%7D&mkt=1&rt=53721774&fd=2019-09-26\n",
      "Downloading date: https://datainterface.eastmoney.com/EM_DataCenter/JS.aspx?type=NS&sty=NSFR&st=1&sr=-1&p=1&ps=5000&js=var+IBhynDx%3D%7Bpages%3A%28pc%29%2Cdata%3A%5B%28x%29%5D%7D&mkt=1&rt=53721774&fd=2019-10-03\n",
      "Downloading date: https://datainterface.eastmoney.com/EM_DataCenter/JS.aspx?type=NS&sty=NSFR&st=1&sr=-1&p=1&ps=5000&js=var+IBhynDx%3D%7Bpages%3A%28pc%29%2Cdata%3A%5B%28x%29%5D%7D&mkt=1&rt=53721774&fd=2019-10-10\n",
      "Downloading date: https://datainterface.eastmoney.com/EM_DataCenter/JS.aspx?type=NS&sty=NSFR&st=1&sr=-1&p=1&ps=5000&js=var+IBhynDx%3D%7Bpages%3A%28pc%29%2Cdata%3A%5B%28x%29%5D%7D&mkt=1&rt=53721774&fd=2019-10-17\n",
      "Downloading date: https://datainterface.eastmoney.com/EM_DataCenter/JS.aspx?type=NS&sty=NSFR&st=1&sr=-1&p=1&ps=5000&js=var+IBhynDx%3D%7Bpages%3A%28pc%29%2Cdata%3A%5B%28x%29%5D%7D&mkt=1&rt=53721774&fd=2019-10-24\n",
      "Downloading date: https://datainterface.eastmoney.com/EM_DataCenter/JS.aspx?type=NS&sty=NSFR&st=1&sr=-1&p=1&ps=5000&js=var+IBhynDx%3D%7Bpages%3A%28pc%29%2Cdata%3A%5B%28x%29%5D%7D&mkt=1&rt=53721774&fd=2019-10-31\n",
      "Downloading date: https://datainterface.eastmoney.com/EM_DataCenter/JS.aspx?type=NS&sty=NSFR&st=1&sr=-1&p=1&ps=5000&js=var+IBhynDx%3D%7Bpages%3A%28pc%29%2Cdata%3A%5B%28x%29%5D%7D&mkt=1&rt=53721774&fd=2019-11-07\n",
      "Downloading date: https://datainterface.eastmoney.com/EM_DataCenter/JS.aspx?type=NS&sty=NSFR&st=1&sr=-1&p=1&ps=5000&js=var+IBhynDx%3D%7Bpages%3A%28pc%29%2Cdata%3A%5B%28x%29%5D%7D&mkt=1&rt=53721774&fd=2019-11-14\n",
      "Downloading date: https://datainterface.eastmoney.com/EM_DataCenter/JS.aspx?type=NS&sty=NSFR&st=1&sr=-1&p=1&ps=5000&js=var+IBhynDx%3D%7Bpages%3A%28pc%29%2Cdata%3A%5B%28x%29%5D%7D&mkt=1&rt=53721774&fd=2019-11-21\n",
      "Downloading date: https://datainterface.eastmoney.com/EM_DataCenter/JS.aspx?type=NS&sty=NSFR&st=1&sr=-1&p=1&ps=5000&js=var+IBhynDx%3D%7Bpages%3A%28pc%29%2Cdata%3A%5B%28x%29%5D%7D&mkt=1&rt=53721774&fd=2019-11-28\n",
      "Downloading date: https://datainterface.eastmoney.com/EM_DataCenter/JS.aspx?type=NS&sty=NSFR&st=1&sr=-1&p=1&ps=5000&js=var+IBhynDx%3D%7Bpages%3A%28pc%29%2Cdata%3A%5B%28x%29%5D%7D&mkt=1&rt=53721774&fd=2019-12-05\n",
      "Downloading date: https://datainterface.eastmoney.com/EM_DataCenter/JS.aspx?type=NS&sty=NSFR&st=1&sr=-1&p=1&ps=5000&js=var+IBhynDx%3D%7Bpages%3A%28pc%29%2Cdata%3A%5B%28x%29%5D%7D&mkt=1&rt=53721774&fd=2019-12-12\n",
      "Downloading date: https://datainterface.eastmoney.com/EM_DataCenter/JS.aspx?type=NS&sty=NSFR&st=1&sr=-1&p=1&ps=5000&js=var+IBhynDx%3D%7Bpages%3A%28pc%29%2Cdata%3A%5B%28x%29%5D%7D&mkt=1&rt=53721774&fd=2019-12-19\n",
      "Downloading date: https://datainterface.eastmoney.com/EM_DataCenter/JS.aspx?type=NS&sty=NSFR&st=1&sr=-1&p=1&ps=5000&js=var+IBhynDx%3D%7Bpages%3A%28pc%29%2Cdata%3A%5B%28x%29%5D%7D&mkt=1&rt=53721774&fd=2019-12-26\n",
      "Downloading date: https://datainterface.eastmoney.com/EM_DataCenter/JS.aspx?type=NS&sty=NSFR&st=1&sr=-1&p=1&ps=5000&js=var+IBhynDx%3D%7Bpages%3A%28pc%29%2Cdata%3A%5B%28x%29%5D%7D&mkt=1&rt=53721774&fd=2020-01-02\n",
      "Downloading date: https://datainterface.eastmoney.com/EM_DataCenter/JS.aspx?type=NS&sty=NSFR&st=1&sr=-1&p=1&ps=5000&js=var+IBhynDx%3D%7Bpages%3A%28pc%29%2Cdata%3A%5B%28x%29%5D%7D&mkt=1&rt=53721774&fd=2020-01-09\n",
      "Downloading date: https://datainterface.eastmoney.com/EM_DataCenter/JS.aspx?type=NS&sty=NSFR&st=1&sr=-1&p=1&ps=5000&js=var+IBhynDx%3D%7Bpages%3A%28pc%29%2Cdata%3A%5B%28x%29%5D%7D&mkt=1&rt=53721774&fd=2020-01-16\n",
      "Downloading date: https://datainterface.eastmoney.com/EM_DataCenter/JS.aspx?type=NS&sty=NSFR&st=1&sr=-1&p=1&ps=5000&js=var+IBhynDx%3D%7Bpages%3A%28pc%29%2Cdata%3A%5B%28x%29%5D%7D&mkt=1&rt=53721774&fd=2020-01-23\n",
      "Downloading date: https://datainterface.eastmoney.com/EM_DataCenter/JS.aspx?type=NS&sty=NSFR&st=1&sr=-1&p=1&ps=5000&js=var+IBhynDx%3D%7Bpages%3A%28pc%29%2Cdata%3A%5B%28x%29%5D%7D&mkt=1&rt=53721774&fd=2020-01-30\n",
      "Downloading date: https://datainterface.eastmoney.com/EM_DataCenter/JS.aspx?type=NS&sty=NSFR&st=1&sr=-1&p=1&ps=5000&js=var+IBhynDx%3D%7Bpages%3A%28pc%29%2Cdata%3A%5B%28x%29%5D%7D&mkt=1&rt=53721774&fd=2020-02-06\n",
      "Downloading date: https://datainterface.eastmoney.com/EM_DataCenter/JS.aspx?type=NS&sty=NSFR&st=1&sr=-1&p=1&ps=5000&js=var+IBhynDx%3D%7Bpages%3A%28pc%29%2Cdata%3A%5B%28x%29%5D%7D&mkt=1&rt=53721774&fd=2020-02-13\n",
      "Downloading date: https://datainterface.eastmoney.com/EM_DataCenter/JS.aspx?type=NS&sty=NSFR&st=1&sr=-1&p=1&ps=5000&js=var+IBhynDx%3D%7Bpages%3A%28pc%29%2Cdata%3A%5B%28x%29%5D%7D&mkt=1&rt=53721774&fd=2020-02-20\n",
      "Downloading date: https://datainterface.eastmoney.com/EM_DataCenter/JS.aspx?type=NS&sty=NSFR&st=1&sr=-1&p=1&ps=5000&js=var+IBhynDx%3D%7Bpages%3A%28pc%29%2Cdata%3A%5B%28x%29%5D%7D&mkt=1&rt=53721774&fd=2020-02-27\n",
      "Downloading date: https://datainterface.eastmoney.com/EM_DataCenter/JS.aspx?type=NS&sty=NSFR&st=1&sr=-1&p=1&ps=5000&js=var+IBhynDx%3D%7Bpages%3A%28pc%29%2Cdata%3A%5B%28x%29%5D%7D&mkt=1&rt=53721774&fd=2020-03-05\n",
      "Downloading date: https://datainterface.eastmoney.com/EM_DataCenter/JS.aspx?type=NS&sty=NSFR&st=1&sr=-1&p=1&ps=5000&js=var+IBhynDx%3D%7Bpages%3A%28pc%29%2Cdata%3A%5B%28x%29%5D%7D&mkt=1&rt=53721774&fd=2020-03-12\n",
      "Downloading date: https://datainterface.eastmoney.com/EM_DataCenter/JS.aspx?type=NS&sty=NSFR&st=1&sr=-1&p=1&ps=5000&js=var+IBhynDx%3D%7Bpages%3A%28pc%29%2Cdata%3A%5B%28x%29%5D%7D&mkt=1&rt=53721774&fd=2020-03-19\n",
      "Downloading date: https://datainterface.eastmoney.com/EM_DataCenter/JS.aspx?type=NS&sty=NSFR&st=1&sr=-1&p=1&ps=5000&js=var+IBhynDx%3D%7Bpages%3A%28pc%29%2Cdata%3A%5B%28x%29%5D%7D&mkt=1&rt=53721774&fd=2020-03-26\n",
      "Downloading date: https://datainterface.eastmoney.com/EM_DataCenter/JS.aspx?type=NS&sty=NSFR&st=1&sr=-1&p=1&ps=5000&js=var+IBhynDx%3D%7Bpages%3A%28pc%29%2Cdata%3A%5B%28x%29%5D%7D&mkt=1&rt=53721774&fd=2020-04-02\n",
      "Downloading date: https://datainterface.eastmoney.com/EM_DataCenter/JS.aspx?type=NS&sty=NSFR&st=1&sr=-1&p=1&ps=5000&js=var+IBhynDx%3D%7Bpages%3A%28pc%29%2Cdata%3A%5B%28x%29%5D%7D&mkt=1&rt=53721774&fd=2020-04-09\n",
      "Downloading date: https://datainterface.eastmoney.com/EM_DataCenter/JS.aspx?type=NS&sty=NSFR&st=1&sr=-1&p=1&ps=5000&js=var+IBhynDx%3D%7Bpages%3A%28pc%29%2Cdata%3A%5B%28x%29%5D%7D&mkt=1&rt=53721774&fd=2020-04-16\n",
      "Downloading date: https://datainterface.eastmoney.com/EM_DataCenter/JS.aspx?type=NS&sty=NSFR&st=1&sr=-1&p=1&ps=5000&js=var+IBhynDx%3D%7Bpages%3A%28pc%29%2Cdata%3A%5B%28x%29%5D%7D&mkt=1&rt=53721774&fd=2020-04-23\n",
      "Downloading date: https://datainterface.eastmoney.com/EM_DataCenter/JS.aspx?type=NS&sty=NSFR&st=1&sr=-1&p=1&ps=5000&js=var+IBhynDx%3D%7Bpages%3A%28pc%29%2Cdata%3A%5B%28x%29%5D%7D&mkt=1&rt=53721774&fd=2020-04-30\n",
      "Downloading date: https://datainterface.eastmoney.com/EM_DataCenter/JS.aspx?type=NS&sty=NSFR&st=1&sr=-1&p=1&ps=5000&js=var+IBhynDx%3D%7Bpages%3A%28pc%29%2Cdata%3A%5B%28x%29%5D%7D&mkt=1&rt=53721774&fd=2020-05-07\n",
      "Downloading date: https://datainterface.eastmoney.com/EM_DataCenter/JS.aspx?type=NS&sty=NSFR&st=1&sr=-1&p=1&ps=5000&js=var+IBhynDx%3D%7Bpages%3A%28pc%29%2Cdata%3A%5B%28x%29%5D%7D&mkt=1&rt=53721774&fd=2020-05-14\n",
      "Downloading date: https://datainterface.eastmoney.com/EM_DataCenter/JS.aspx?type=NS&sty=NSFR&st=1&sr=-1&p=1&ps=5000&js=var+IBhynDx%3D%7Bpages%3A%28pc%29%2Cdata%3A%5B%28x%29%5D%7D&mkt=1&rt=53721774&fd=2020-05-21\n",
      "Downloading date: https://datainterface.eastmoney.com/EM_DataCenter/JS.aspx?type=NS&sty=NSFR&st=1&sr=-1&p=1&ps=5000&js=var+IBhynDx%3D%7Bpages%3A%28pc%29%2Cdata%3A%5B%28x%29%5D%7D&mkt=1&rt=53721774&fd=2020-05-28\n",
      "Downloading date: https://datainterface.eastmoney.com/EM_DataCenter/JS.aspx?type=NS&sty=NSFR&st=1&sr=-1&p=1&ps=5000&js=var+IBhynDx%3D%7Bpages%3A%28pc%29%2Cdata%3A%5B%28x%29%5D%7D&mkt=1&rt=53721774&fd=2020-06-04\n",
      "Downloading date: https://datainterface.eastmoney.com/EM_DataCenter/JS.aspx?type=NS&sty=NSFR&st=1&sr=-1&p=1&ps=5000&js=var+IBhynDx%3D%7Bpages%3A%28pc%29%2Cdata%3A%5B%28x%29%5D%7D&mkt=1&rt=53721774&fd=2020-06-11\n",
      "Downloading date: https://datainterface.eastmoney.com/EM_DataCenter/JS.aspx?type=NS&sty=NSFR&st=1&sr=-1&p=1&ps=5000&js=var+IBhynDx%3D%7Bpages%3A%28pc%29%2Cdata%3A%5B%28x%29%5D%7D&mkt=1&rt=53721774&fd=2020-06-18\n",
      "Downloading date: https://datainterface.eastmoney.com/EM_DataCenter/JS.aspx?type=NS&sty=NSFR&st=1&sr=-1&p=1&ps=5000&js=var+IBhynDx%3D%7Bpages%3A%28pc%29%2Cdata%3A%5B%28x%29%5D%7D&mkt=1&rt=53721774&fd=2020-06-25\n",
      "Downloading date: https://datainterface.eastmoney.com/EM_DataCenter/JS.aspx?type=NS&sty=NSFR&st=1&sr=-1&p=1&ps=5000&js=var+IBhynDx%3D%7Bpages%3A%28pc%29%2Cdata%3A%5B%28x%29%5D%7D&mkt=1&rt=53721774&fd=2020-07-02\n",
      "Downloading date: https://datainterface.eastmoney.com/EM_DataCenter/JS.aspx?type=NS&sty=NSFR&st=1&sr=-1&p=1&ps=5000&js=var+IBhynDx%3D%7Bpages%3A%28pc%29%2Cdata%3A%5B%28x%29%5D%7D&mkt=1&rt=53721774&fd=2020-07-09\n",
      "Downloading date: https://datainterface.eastmoney.com/EM_DataCenter/JS.aspx?type=NS&sty=NSFR&st=1&sr=-1&p=1&ps=5000&js=var+IBhynDx%3D%7Bpages%3A%28pc%29%2Cdata%3A%5B%28x%29%5D%7D&mkt=1&rt=53721774&fd=2020-07-16\n",
      "Downloading date: https://datainterface.eastmoney.com/EM_DataCenter/JS.aspx?type=NS&sty=NSFR&st=1&sr=-1&p=1&ps=5000&js=var+IBhynDx%3D%7Bpages%3A%28pc%29%2Cdata%3A%5B%28x%29%5D%7D&mkt=1&rt=53721774&fd=2020-07-23\n",
      "Downloading date: https://datainterface.eastmoney.com/EM_DataCenter/JS.aspx?type=NS&sty=NSFR&st=1&sr=-1&p=1&ps=5000&js=var+IBhynDx%3D%7Bpages%3A%28pc%29%2Cdata%3A%5B%28x%29%5D%7D&mkt=1&rt=53721774&fd=2020-07-30\n",
      "Downloading date: https://datainterface.eastmoney.com/EM_DataCenter/JS.aspx?type=NS&sty=NSFR&st=1&sr=-1&p=1&ps=5000&js=var+IBhynDx%3D%7Bpages%3A%28pc%29%2Cdata%3A%5B%28x%29%5D%7D&mkt=1&rt=53721774&fd=2020-08-06\n",
      "Downloading date: https://datainterface.eastmoney.com/EM_DataCenter/JS.aspx?type=NS&sty=NSFR&st=1&sr=-1&p=1&ps=5000&js=var+IBhynDx%3D%7Bpages%3A%28pc%29%2Cdata%3A%5B%28x%29%5D%7D&mkt=1&rt=53721774&fd=2020-08-13\n",
      "Downloading date: https://datainterface.eastmoney.com/EM_DataCenter/JS.aspx?type=NS&sty=NSFR&st=1&sr=-1&p=1&ps=5000&js=var+IBhynDx%3D%7Bpages%3A%28pc%29%2Cdata%3A%5B%28x%29%5D%7D&mkt=1&rt=53721774&fd=2020-08-20\n",
      "Downloading date: https://datainterface.eastmoney.com/EM_DataCenter/JS.aspx?type=NS&sty=NSFR&st=1&sr=-1&p=1&ps=5000&js=var+IBhynDx%3D%7Bpages%3A%28pc%29%2Cdata%3A%5B%28x%29%5D%7D&mkt=1&rt=53721774&fd=2020-08-27\n",
      "Downloading date: https://datainterface.eastmoney.com/EM_DataCenter/JS.aspx?type=NS&sty=NSFR&st=1&sr=-1&p=1&ps=5000&js=var+IBhynDx%3D%7Bpages%3A%28pc%29%2Cdata%3A%5B%28x%29%5D%7D&mkt=1&rt=53721774&fd=2020-09-03\n",
      "Downloading date: https://datainterface.eastmoney.com/EM_DataCenter/JS.aspx?type=NS&sty=NSFR&st=1&sr=-1&p=1&ps=5000&js=var+IBhynDx%3D%7Bpages%3A%28pc%29%2Cdata%3A%5B%28x%29%5D%7D&mkt=1&rt=53721774&fd=2020-09-10\n",
      "Downloading date: https://datainterface.eastmoney.com/EM_DataCenter/JS.aspx?type=NS&sty=NSFR&st=1&sr=-1&p=1&ps=5000&js=var+IBhynDx%3D%7Bpages%3A%28pc%29%2Cdata%3A%5B%28x%29%5D%7D&mkt=1&rt=53721774&fd=2020-09-17\n",
      "Downloading date: https://datainterface.eastmoney.com/EM_DataCenter/JS.aspx?type=NS&sty=NSFR&st=1&sr=-1&p=1&ps=5000&js=var+IBhynDx%3D%7Bpages%3A%28pc%29%2Cdata%3A%5B%28x%29%5D%7D&mkt=1&rt=53721774&fd=2020-09-24\n",
      "Downloading date: https://datainterface.eastmoney.com/EM_DataCenter/JS.aspx?type=NS&sty=NSFR&st=1&sr=-1&p=1&ps=5000&js=var+IBhynDx%3D%7Bpages%3A%28pc%29%2Cdata%3A%5B%28x%29%5D%7D&mkt=1&rt=53721774&fd=2020-10-01\n",
      "Downloading date: https://datainterface.eastmoney.com/EM_DataCenter/JS.aspx?type=NS&sty=NSFR&st=1&sr=-1&p=1&ps=5000&js=var+IBhynDx%3D%7Bpages%3A%28pc%29%2Cdata%3A%5B%28x%29%5D%7D&mkt=1&rt=53721774&fd=2020-10-08\n",
      "Downloading date: https://datainterface.eastmoney.com/EM_DataCenter/JS.aspx?type=NS&sty=NSFR&st=1&sr=-1&p=1&ps=5000&js=var+IBhynDx%3D%7Bpages%3A%28pc%29%2Cdata%3A%5B%28x%29%5D%7D&mkt=1&rt=53721774&fd=2020-10-15\n",
      "Downloading date: https://datainterface.eastmoney.com/EM_DataCenter/JS.aspx?type=NS&sty=NSFR&st=1&sr=-1&p=1&ps=5000&js=var+IBhynDx%3D%7Bpages%3A%28pc%29%2Cdata%3A%5B%28x%29%5D%7D&mkt=1&rt=53721774&fd=2020-10-22\n",
      "Downloading date: https://datainterface.eastmoney.com/EM_DataCenter/JS.aspx?type=NS&sty=NSFR&st=1&sr=-1&p=1&ps=5000&js=var+IBhynDx%3D%7Bpages%3A%28pc%29%2Cdata%3A%5B%28x%29%5D%7D&mkt=1&rt=53721774&fd=2020-10-29\n",
      "Downloading date: https://datainterface.eastmoney.com/EM_DataCenter/JS.aspx?type=NS&sty=NSFR&st=1&sr=-1&p=1&ps=5000&js=var+IBhynDx%3D%7Bpages%3A%28pc%29%2Cdata%3A%5B%28x%29%5D%7D&mkt=1&rt=53721774&fd=2020-11-05\n",
      "Downloading date: https://datainterface.eastmoney.com/EM_DataCenter/JS.aspx?type=NS&sty=NSFR&st=1&sr=-1&p=1&ps=5000&js=var+IBhynDx%3D%7Bpages%3A%28pc%29%2Cdata%3A%5B%28x%29%5D%7D&mkt=1&rt=53721774&fd=2020-11-12\n",
      "Downloading date: https://datainterface.eastmoney.com/EM_DataCenter/JS.aspx?type=NS&sty=NSFR&st=1&sr=-1&p=1&ps=5000&js=var+IBhynDx%3D%7Bpages%3A%28pc%29%2Cdata%3A%5B%28x%29%5D%7D&mkt=1&rt=53721774&fd=2020-11-19\n",
      "Downloading date: https://datainterface.eastmoney.com/EM_DataCenter/JS.aspx?type=NS&sty=NSFR&st=1&sr=-1&p=1&ps=5000&js=var+IBhynDx%3D%7Bpages%3A%28pc%29%2Cdata%3A%5B%28x%29%5D%7D&mkt=1&rt=53721774&fd=2020-11-26\n",
      "Downloading date: https://datainterface.eastmoney.com/EM_DataCenter/JS.aspx?type=NS&sty=NSFR&st=1&sr=-1&p=1&ps=5000&js=var+IBhynDx%3D%7Bpages%3A%28pc%29%2Cdata%3A%5B%28x%29%5D%7D&mkt=1&rt=53721774&fd=2020-12-03\n",
      "Downloading date: https://datainterface.eastmoney.com/EM_DataCenter/JS.aspx?type=NS&sty=NSFR&st=1&sr=-1&p=1&ps=5000&js=var+IBhynDx%3D%7Bpages%3A%28pc%29%2Cdata%3A%5B%28x%29%5D%7D&mkt=1&rt=53721774&fd=2020-12-10\n",
      "Downloading date: https://datainterface.eastmoney.com/EM_DataCenter/JS.aspx?type=NS&sty=NSFR&st=1&sr=-1&p=1&ps=5000&js=var+IBhynDx%3D%7Bpages%3A%28pc%29%2Cdata%3A%5B%28x%29%5D%7D&mkt=1&rt=53721774&fd=2020-12-17\n",
      "Downloading date: https://datainterface.eastmoney.com/EM_DataCenter/JS.aspx?type=NS&sty=NSFR&st=1&sr=-1&p=1&ps=5000&js=var+IBhynDx%3D%7Bpages%3A%28pc%29%2Cdata%3A%5B%28x%29%5D%7D&mkt=1&rt=53721774&fd=2020-12-24\n",
      "Downloading date: https://datainterface.eastmoney.com/EM_DataCenter/JS.aspx?type=NS&sty=NSFR&st=1&sr=-1&p=1&ps=5000&js=var+IBhynDx%3D%7Bpages%3A%28pc%29%2Cdata%3A%5B%28x%29%5D%7D&mkt=1&rt=53721774&fd=2020-12-31\n",
      "Downloading date: https://datainterface.eastmoney.com/EM_DataCenter/JS.aspx?type=NS&sty=NSFR&st=1&sr=-1&p=1&ps=5000&js=var+IBhynDx%3D%7Bpages%3A%28pc%29%2Cdata%3A%5B%28x%29%5D%7D&mkt=1&rt=53721774&fd=2021-01-07\n",
      "Downloading date: https://datainterface.eastmoney.com/EM_DataCenter/JS.aspx?type=NS&sty=NSFR&st=1&sr=-1&p=1&ps=5000&js=var+IBhynDx%3D%7Bpages%3A%28pc%29%2Cdata%3A%5B%28x%29%5D%7D&mkt=1&rt=53721774&fd=2021-01-14\n",
      "Downloading date: https://datainterface.eastmoney.com/EM_DataCenter/JS.aspx?type=NS&sty=NSFR&st=1&sr=-1&p=1&ps=5000&js=var+IBhynDx%3D%7Bpages%3A%28pc%29%2Cdata%3A%5B%28x%29%5D%7D&mkt=1&rt=53721774&fd=2021-01-21\n"
     ]
    }
   ],
   "source": [
    "from datetime import datetime,timedelta\n",
    "from urllib.parse import urlencode\n",
    "import pandas as pd\n",
    "import requests\n",
    "import re\n",
    "import time\n",
    "base_url = 'https://datainterface.eastmoney.com/EM_DataCenter/JS.aspx?'\n",
    "\n",
    "headers = {'User-Agent': 'Mozilla/5.0 (Windows NT 10.0; Win64; x64) AppleWebKit/537.36 (KHTML, like Gecko) Chrome/87.0.4280.141 Safari/537.36'}\n",
    "\n",
    "query = {'type': 'NS',\n",
    "         'sty' : 'NSFR',\n",
    "         'st' : '1',\n",
    "         'sr' : '-1',\n",
    "         'p' : '1',\n",
    "         'ps' : '5000',\n",
    "         'js' : 'var IBhynDx={pages:(pc),data:[(x)]}',\n",
    "         'mkt' : '1',\n",
    "         'rt' : '53721774'\n",
    "        }\n",
    "\n",
    "def date_gen():\n",
    "    \n",
    "    query = {'type': 'NS',\n",
    "         'sty' : 'NSFR',\n",
    "         'st' : '1',\n",
    "         'sr' : '-1',\n",
    "         'p' : '1',\n",
    "         'ps' : '5000',\n",
    "         'js' : 'var IBhynDx={pages:(pc),data:[(x)]}',\n",
    "         'mkt' : '1',\n",
    "         'rt' : '53721774'\n",
    "        }\n",
    "    start = datetime.strptime('2017-01-05','%Y-%m-%d').date()\n",
    "    while start < datetime.today().date():\n",
    "        query['fd'] = start\n",
    "        url = base_url + urlencode(query)\n",
    "        yield url\n",
    "        start += timedelta(days=7)\n",
    "\n",
    "\n",
    "main_data = []\n",
    "for url in date_gen():\n",
    "    print('Downloading date:',url)\n",
    "    rs = requests.get(url,headers=headers)\n",
    "    if rs.text == '':\n",
    "        continue\n",
    "    js = rs.text.split('var IBhynDx={pages:1,data:')[1]\n",
    "    data = eval(js[:-1])\n",
    "    main_data.extend(data)\n",
    "    time.sleep(2)"
   ]
  },
  {
   "cell_type": "code",
   "execution_count": 65,
   "metadata": {},
   "outputs": [],
   "source": [
    "temp = [i.split(',') for i in main_data]\n",
    "columns = ['会计师事务所','保荐代表人','保荐机构','xxx','律师事务所','日期','所属行业','板块','是否提交财务自查报告',\n",
    "'注册地','类型','机构名称','签字会计师','签字律师','时间戳','简称']\n",
    "df = pd.DataFrame(temp,columns=columns)\n",
    "df['文件链接'] = df['时间戳'].apply(lambda x: \"https://notice.eastmoney.com/pdffile/web/H2_\" + x + \"_1.pdf\")\n",
    "df = df[['机构名称', '类型', '板块', '注册地', '保荐机构','保荐代表人', '律师事务所', '签字律师','会计师事务所', \n",
    "'签字会计师', '是否提交财务自查报告', '所属行业','日期','xxx', '时间戳', '保荐机构','文件链接']]\n",
    "df = df[df['板块'] != '创业板']\n",
    "# df.to_csv('C:/Users/chen/Desktop/IPO_info/eastmoney_pre_data.csv',index=False,encoding='utf-8-sig')"
   ]
  },
  {
   "cell_type": "code",
   "execution_count": 13,
   "metadata": {},
   "outputs": [],
   "source": []
  },
  {
   "cell_type": "code",
   "execution_count": 68,
   "metadata": {},
   "outputs": [],
   "source": [
    "df['是否提交财务自查报告']=df['是否提交财务自查报告'].replace('','是')\n",
    "df.drop_duplicates(subset = ['机构名称','是否提交财务自查报告','类型'], keep = 'first', inplace = True) \n",
    "df.to_csv('C:/Users/chen/Desktop/IPO_info/eastmoney_pre_data_new.csv',index=False,encoding='utf-8-sig')\n",
    "# df.loc[df['机构名称'] == '爱柯迪']"
   ]
  },
  {
   "cell_type": "code",
   "execution_count": 58,
   "metadata": {},
   "outputs": [
    {
     "output_type": "execute_result",
     "data": {
      "text/plain": [
       "      机构名称      类型    板块 注册地        保荐机构         保荐代表人    律师事务所  \\\n",
       "13     爱柯迪     已受理  主板企业  宁波  国金证券股份有限公司  吴小鸣&sbquo;谭军  通力律师事务所   \n",
       "10063  爱柯迪     已受理  主板企业  宁波  国金证券股份有限公司  吴小鸣&sbquo;谭军  通力律师事务所   \n",
       "12957  爱柯迪     已反馈  主板企业  宁波  国金证券股份有限公司  吴小鸣&sbquo;谭军  通力律师事务所   \n",
       "22177  爱柯迪  预先披露更新  主板企业  宁波  国金证券股份有限公司  吴小鸣&sbquo;谭军  通力律师事务所   \n",
       "22752  爱柯迪  已通过发审会  主板企业  宁波  国金证券股份有限公司  吴小鸣&sbquo;谭军  通力律师事务所   \n",
       "23913  爱柯迪  已通过发审会  主板企业  宁波  国金证券股份有限公司  吴小鸣&sbquo;谭军  通力律师事务所   \n",
       "\n",
       "                签字律师            会计师事务所          签字会计师 是否提交财务自查报告   所属行业  \\\n",
       "13     翁晓健&sbquo;李仲英  瑞华会计师事务所(特殊普通合伙)  杨峰安&sbquo;任明果          否  汽车制造业   \n",
       "10063  翁晓健&sbquo;李仲英  瑞华会计师事务所(特殊普通合伙)  杨峰安&sbquo;任明果          是  汽车制造业   \n",
       "12957  翁晓健&sbquo;李仲英  瑞华会计师事务所(特殊普通合伙)  杨峰安&sbquo;任明果          是  汽车制造业   \n",
       "22177  翁晓健&sbquo;李仲英  瑞华会计师事务所(特殊普通合伙)  杨峰安&sbquo;任明果          是  汽车制造业   \n",
       "22752  翁晓健&sbquo;李仲英  瑞华会计师事务所(特殊普通合伙)  杨峰安&sbquo;任明果          是  汽车制造业   \n",
       "23913  翁晓健&sbquo;李仲英  瑞华会计师事务所(特殊普通合伙)  杨峰安&sbquo;任明果             汽车制造业   \n",
       "\n",
       "               日期       xxx                   时间戳        保荐机构  \\\n",
       "13       2017/1/5  80452535  AN201711051015446277  国金证券股份有限公司   \n",
       "10063    2017/5/4  80452535  AN201711051015446277  国金证券股份有限公司   \n",
       "12957    2017/6/8  80452535  AN201711051015446277  国金证券股份有限公司   \n",
       "22177   2017/9/21  80452535  AN201711051015446277  国金证券股份有限公司   \n",
       "22752   2017/9/28  80452535  AN201711051015446277  国金证券股份有限公司   \n",
       "23913  2017/10/19  80452535  AN201711051015446277  国金证券股份有限公司   \n",
       "\n",
       "                                                    文件链接  \n",
       "13     https://notice.eastmoney.com/pdffile/web/H2_AN...  \n",
       "10063  https://notice.eastmoney.com/pdffile/web/H2_AN...  \n",
       "12957  https://notice.eastmoney.com/pdffile/web/H2_AN...  \n",
       "22177  https://notice.eastmoney.com/pdffile/web/H2_AN...  \n",
       "22752  https://notice.eastmoney.com/pdffile/web/H2_AN...  \n",
       "23913  https://notice.eastmoney.com/pdffile/web/H2_AN...  "
      ],
      "text/html": "<div>\n<style scoped>\n    .dataframe tbody tr th:only-of-type {\n        vertical-align: middle;\n    }\n\n    .dataframe tbody tr th {\n        vertical-align: top;\n    }\n\n    .dataframe thead th {\n        text-align: right;\n    }\n</style>\n<table border=\"1\" class=\"dataframe\">\n  <thead>\n    <tr style=\"text-align: right;\">\n      <th></th>\n      <th>机构名称</th>\n      <th>类型</th>\n      <th>板块</th>\n      <th>注册地</th>\n      <th>保荐机构</th>\n      <th>保荐代表人</th>\n      <th>律师事务所</th>\n      <th>签字律师</th>\n      <th>会计师事务所</th>\n      <th>签字会计师</th>\n      <th>是否提交财务自查报告</th>\n      <th>所属行业</th>\n      <th>日期</th>\n      <th>xxx</th>\n      <th>时间戳</th>\n      <th>保荐机构</th>\n      <th>文件链接</th>\n    </tr>\n  </thead>\n  <tbody>\n    <tr>\n      <td>13</td>\n      <td>爱柯迪</td>\n      <td>已受理</td>\n      <td>主板企业</td>\n      <td>宁波</td>\n      <td>国金证券股份有限公司</td>\n      <td>吴小鸣&amp;sbquo;谭军</td>\n      <td>通力律师事务所</td>\n      <td>翁晓健&amp;sbquo;李仲英</td>\n      <td>瑞华会计师事务所(特殊普通合伙)</td>\n      <td>杨峰安&amp;sbquo;任明果</td>\n      <td>否</td>\n      <td>汽车制造业</td>\n      <td>2017/1/5</td>\n      <td>80452535</td>\n      <td>AN201711051015446277</td>\n      <td>国金证券股份有限公司</td>\n      <td>https://notice.eastmoney.com/pdffile/web/H2_AN...</td>\n    </tr>\n    <tr>\n      <td>10063</td>\n      <td>爱柯迪</td>\n      <td>已受理</td>\n      <td>主板企业</td>\n      <td>宁波</td>\n      <td>国金证券股份有限公司</td>\n      <td>吴小鸣&amp;sbquo;谭军</td>\n      <td>通力律师事务所</td>\n      <td>翁晓健&amp;sbquo;李仲英</td>\n      <td>瑞华会计师事务所(特殊普通合伙)</td>\n      <td>杨峰安&amp;sbquo;任明果</td>\n      <td>是</td>\n      <td>汽车制造业</td>\n      <td>2017/5/4</td>\n      <td>80452535</td>\n      <td>AN201711051015446277</td>\n      <td>国金证券股份有限公司</td>\n      <td>https://notice.eastmoney.com/pdffile/web/H2_AN...</td>\n    </tr>\n    <tr>\n      <td>12957</td>\n      <td>爱柯迪</td>\n      <td>已反馈</td>\n      <td>主板企业</td>\n      <td>宁波</td>\n      <td>国金证券股份有限公司</td>\n      <td>吴小鸣&amp;sbquo;谭军</td>\n      <td>通力律师事务所</td>\n      <td>翁晓健&amp;sbquo;李仲英</td>\n      <td>瑞华会计师事务所(特殊普通合伙)</td>\n      <td>杨峰安&amp;sbquo;任明果</td>\n      <td>是</td>\n      <td>汽车制造业</td>\n      <td>2017/6/8</td>\n      <td>80452535</td>\n      <td>AN201711051015446277</td>\n      <td>国金证券股份有限公司</td>\n      <td>https://notice.eastmoney.com/pdffile/web/H2_AN...</td>\n    </tr>\n    <tr>\n      <td>22177</td>\n      <td>爱柯迪</td>\n      <td>预先披露更新</td>\n      <td>主板企业</td>\n      <td>宁波</td>\n      <td>国金证券股份有限公司</td>\n      <td>吴小鸣&amp;sbquo;谭军</td>\n      <td>通力律师事务所</td>\n      <td>翁晓健&amp;sbquo;李仲英</td>\n      <td>瑞华会计师事务所(特殊普通合伙)</td>\n      <td>杨峰安&amp;sbquo;任明果</td>\n      <td>是</td>\n      <td>汽车制造业</td>\n      <td>2017/9/21</td>\n      <td>80452535</td>\n      <td>AN201711051015446277</td>\n      <td>国金证券股份有限公司</td>\n      <td>https://notice.eastmoney.com/pdffile/web/H2_AN...</td>\n    </tr>\n    <tr>\n      <td>22752</td>\n      <td>爱柯迪</td>\n      <td>已通过发审会</td>\n      <td>主板企业</td>\n      <td>宁波</td>\n      <td>国金证券股份有限公司</td>\n      <td>吴小鸣&amp;sbquo;谭军</td>\n      <td>通力律师事务所</td>\n      <td>翁晓健&amp;sbquo;李仲英</td>\n      <td>瑞华会计师事务所(特殊普通合伙)</td>\n      <td>杨峰安&amp;sbquo;任明果</td>\n      <td>是</td>\n      <td>汽车制造业</td>\n      <td>2017/9/28</td>\n      <td>80452535</td>\n      <td>AN201711051015446277</td>\n      <td>国金证券股份有限公司</td>\n      <td>https://notice.eastmoney.com/pdffile/web/H2_AN...</td>\n    </tr>\n    <tr>\n      <td>23913</td>\n      <td>爱柯迪</td>\n      <td>已通过发审会</td>\n      <td>主板企业</td>\n      <td>宁波</td>\n      <td>国金证券股份有限公司</td>\n      <td>吴小鸣&amp;sbquo;谭军</td>\n      <td>通力律师事务所</td>\n      <td>翁晓健&amp;sbquo;李仲英</td>\n      <td>瑞华会计师事务所(特殊普通合伙)</td>\n      <td>杨峰安&amp;sbquo;任明果</td>\n      <td></td>\n      <td>汽车制造业</td>\n      <td>2017/10/19</td>\n      <td>80452535</td>\n      <td>AN201711051015446277</td>\n      <td>国金证券股份有限公司</td>\n      <td>https://notice.eastmoney.com/pdffile/web/H2_AN...</td>\n    </tr>\n  </tbody>\n</table>\n</div>"
     },
     "metadata": {},
     "execution_count": 58
    }
   ],
   "source": [
    "df.loc[df['机构名称'] == '爱柯迪']"
   ]
  },
  {
   "cell_type": "code",
   "execution_count": 180,
   "metadata": {},
   "outputs": [
    {
     "output_type": "execute_result",
     "data": {
      "text/plain": [
       "'http://www.example.com/hithere/something/index.html'"
      ]
     },
     "metadata": {},
     "execution_count": 180
    }
   ],
   "source": [
    "from urllib.parse import urljoin\n",
    "urljoin('http://www.example.com/hithere/something/els.html','./index.html')"
   ]
  },
  {
   "cell_type": "code",
   "execution_count": 70,
   "metadata": {},
   "outputs": [],
   "source": [
    "rssss = requests.get('http://www.csrc.gov.cn/pub/newsite/fxjgb/scgkfxfkyj/index_2.html',headers=headers)\n"
   ]
  },
  {
   "cell_type": "code",
   "execution_count": 72,
   "metadata": {},
   "outputs": [],
   "source": [
    "rssss.encoding='utf-8'"
   ]
  },
  {
   "cell_type": "code",
   "execution_count": 116,
   "metadata": {},
   "outputs": [],
   "source": [
    "from bs4 import BeautifulSoup\n",
    "soup = BeautifulSoup(rxt.text,'html.parser')"
   ]
  },
  {
   "cell_type": "code",
   "execution_count": 139,
   "metadata": {},
   "outputs": [
    {
     "output_type": "execute_result",
     "data": {
      "text/plain": [
       "[<a href=\"./202101/t20210108_390461.html\" target=\"_blank\" title=\"北京菜市口百货股份有限公司首次公开发行股票申请文件反馈意见\">北京菜市口百货股份有限公司首次公开发行股票申请文件反馈意见</a>,\n",
       " <a href=\"./202101/t20210108_390460.html\" target=\"_blank\" title=\"大通（福建）新材料股份有限公司首次公开发行股票并上市申请文件反馈意见\">大通（福建）新材料股份有限公司首次公开发行股票并上市申请文件反馈意见</a>,\n",
       " <a href=\"./202101/t20210108_390459.html\" target=\"_blank\" title=\"北京金房暖通节能技术股份有限公司首次公开发行股票申请文件反馈意见\">北京金房暖通节能技术股份有限公司首次公开发行股票申请文件反馈意见</a>,\n",
       " <a href=\"./202101/t20210108_390458.html\" target=\"_blank\" title=\"青岛食品股份有限公司首次公开发行股票申请文件反馈意见\">青岛食品股份有限公司首次公开发行股票申请文件反馈意见</a>,\n",
       " <a href=\"./202012/t20201231_389997.html\" target=\"_blank\" title=\"美庐生物科技股份有限公司首次公开发行股票申请文件反馈意见\">美庐生物科技股份有限公司首次公开发行股票申请文件反馈意见</a>,\n",
       " <a href=\"./202012/t20201231_389996.html\" target=\"_blank\" title=\"湖南华联瓷业股份有限公司首次公开发行股票申请文件反馈意见\">湖南华联瓷业股份有限公司首次公开发行股票申请文件反馈意见</a>,\n",
       " <a href=\"./202012/t20201225_389452.html\" target=\"_blank\" title=\"浙江盛泰服装集团股份有限公司首次公开发行股票申请文件反馈意见\">浙江盛泰服装集团股份有限公司首次公开发行股票申请文件反馈意见</a>,\n",
       " <a href=\"./202012/t20201225_389451.html\" target=\"_blank\" title=\"双枪科技股份有限公司首次公开发行股票申请文件反馈意见\">双枪科技股份有限公司首次公开发行股票申请文件反馈意见</a>,\n",
       " <a href=\"./202012/t20201225_389450.html\" target=\"_blank\" title=\"广东洪兴实业股份有限公司首次公开发行股票申请文件反馈意见\">广东洪兴实业股份有限公司首次公开发行股票申请文件反馈意见</a>,\n",
       " <a href=\"./202012/t20201225_389449.html\" target=\"_blank\" title=\"广东中旗新材料股份有限公司首次公开发行股票申请文件反馈意见\">广东中旗新材料股份有限公司首次公开发行股票申请文件反馈意见</a>,\n",
       " <a href=\"./202012/t20201225_389448.html\" target=\"_blank\" title=\"绿田机械股份有限公司首次公开发行股票申请文件反馈意见\">绿田机械股份有限公司首次公开发行股票申请文件反馈意见</a>,\n",
       " <a href=\"./202012/t20201225_389447.html\" target=\"_blank\" title=\"康定金鑫矿业旅游股份有限公司首次公开发行股票申请文件反馈意见\">康定金鑫矿业旅游股份有限公司首次公开发行股票申请文件反馈意见</a>,\n",
       " <a href=\"./202012/t20201225_389445.html\" target=\"_blank\" title=\"上海十方生态园林股份有限公司首次公开发行股票申请文件反馈意见\">上海十方生态园林股份有限公司首次公开发行股票申请文件反馈意见</a>,\n",
       " <a href=\"./202012/t20201218_388905.html\" target=\"_blank\" title=\"永道射频技术股份有限公司首次公开发行股票申请文件反馈意见\">永道射频技术股份有限公司首次公开发行股票申请文件反馈意见</a>,\n",
       " <a href=\"./202012/t20201211_387957.html\" target=\"_blank\" title=\"中铁特货物流股份有限公司首次公开发行股票申请文件反馈意见\">中铁特货物流股份有限公司首次公开发行股票申请文件反馈意见</a>,\n",
       " <a href=\"./202012/t20201211_387952.html\" target=\"_blank\" title=\"上海新农科技股份有限公司首次公开发行股票申请文件反馈意见\">上海新农科技股份有限公司首次公开发行股票申请文件反馈意见</a>,\n",
       " <a href=\"./202012/t20201204_387400.html\" target=\"_blank\" title=\"重庆三峡银行股份有限公司首次公开发行股票申请文件反馈意见\">重庆三峡银行股份有限公司首次公开发行股票申请文件反馈意见</a>,\n",
       " <a href=\"./202012/t20201204_387399.html\" target=\"_blank\" title=\"普洱澜沧古茶股份有限公司首次公开发行股票申请文件反馈意见\">普洱澜沧古茶股份有限公司首次公开发行股票申请文件反馈意见</a>,\n",
       " <a href=\"./202012/t20201204_387398.html\" target=\"_blank\" title=\"扬州日兴生物科技股份有限公司首次公开发行股票并上市申请文件反馈意见\">扬州日兴生物科技股份有限公司首次公开发行股票并上市申请文件反馈意见</a>,\n",
       " <a href=\"./202012/t20201204_387397.html\" target=\"_blank\" title=\"南京冠石科技股份有限公司首次公开发行股票申请文件反馈意见\">南京冠石科技股份有限公司首次公开发行股票申请文件反馈意见</a>]"
      ]
     },
     "metadata": {},
     "execution_count": 139
    }
   ],
   "source": []
  },
  {
   "cell_type": "code",
   "execution_count": 135,
   "metadata": {},
   "outputs": [
    {
     "output_type": "execute_result",
     "data": {
      "text/plain": [
       "'25'"
      ]
     },
     "metadata": {},
     "execution_count": 135
    }
   ],
   "source": []
  },
  {
   "cell_type": "code",
   "execution_count": 146,
   "metadata": {},
   "outputs": [],
   "source": [
    "url = 'http://www.csrc.gov.cn/pub/newsite/fxjgb/scgkfxfkyj/' + './202101/t20210108_390461.html'"
   ]
  },
  {
   "cell_type": "code",
   "execution_count": 147,
   "metadata": {},
   "outputs": [],
   "source": [
    "rxt = requests.get(url)"
   ]
  },
  {
   "cell_type": "code",
   "execution_count": 148,
   "metadata": {},
   "outputs": [],
   "source": [
    "rxt.encoding='utf-8'"
   ]
  },
  {
   "cell_type": "code",
   "execution_count": 172,
   "metadata": {},
   "outputs": [
    {
     "output_type": "execute_result",
     "data": {
      "text/plain": [
       "['', '/P020210108650707495961', 'docx']"
      ]
     },
     "metadata": {},
     "execution_count": 172
    }
   ],
   "source": [
    "re.findall(r'file_appendix=\\'<a href=\\\"(.*)\\\">',rxt.text)[0].split('.')"
   ]
  },
  {
   "cell_type": "code",
   "execution_count": 165,
   "metadata": {},
   "outputs": [
    {
     "output_type": "execute_result",
     "data": {
      "text/plain": [
       "[<div class=\"time\">\n",
       " <span>中国证监会 www.csrc.gov.cn</span>\n",
       " <span>时间：2021-01-08</span>\n",
       " <span>来源：</span>\n",
       " </div>]"
      ]
     },
     "metadata": {},
     "execution_count": 165
    }
   ],
   "source": [
    "sss.findAll(attrs={'class':'time'})"
   ]
  },
  {
   "cell_type": "code",
   "execution_count": 200,
   "metadata": {},
   "outputs": [
    {
     "output_type": "stream",
     "name": "stdout",
     "text": [
      "fetching:  北京菜市口百货股份有限公司首次公开发行股票申请文件反馈意见\n",
      "fetching:  大通（福建）新材料股份有限公司首次公开发行股票并上市申请文件反馈意见\n",
      "fetching:  北京金房暖通节能技术股份有限公司首次公开发行股票申请文件反馈意见\n",
      "fetching:  青岛食品股份有限公司首次公开发行股票申请文件反馈意见\n",
      "fetching:  美庐生物科技股份有限公司首次公开发行股票申请文件反馈意见\n",
      "fetching:  湖南华联瓷业股份有限公司首次公开发行股票申请文件反馈意见\n",
      "fetching:  浙江盛泰服装集团股份有限公司首次公开发行股票申请文件反馈意见\n",
      "fetching:  双枪科技股份有限公司首次公开发行股票申请文件反馈意见\n",
      "fetching:  广东洪兴实业股份有限公司首次公开发行股票申请文件反馈意见\n",
      "fetching:  广东中旗新材料股份有限公司首次公开发行股票申请文件反馈意见\n",
      "fetching:  绿田机械股份有限公司首次公开发行股票申请文件反馈意见\n",
      "fetching:  康定金鑫矿业旅游股份有限公司首次公开发行股票申请文件反馈意见\n",
      "fetching:  上海十方生态园林股份有限公司首次公开发行股票申请文件反馈意见\n",
      "fetching:  永道射频技术股份有限公司首次公开发行股票申请文件反馈意见\n",
      "fetching:  中铁特货物流股份有限公司首次公开发行股票申请文件反馈意见\n",
      "fetching:  上海新农科技股份有限公司首次公开发行股票申请文件反馈意见\n",
      "fetching:  重庆三峡银行股份有限公司首次公开发行股票申请文件反馈意见\n",
      "fetching:  普洱澜沧古茶股份有限公司首次公开发行股票申请文件反馈意见\n",
      "fetching:  扬州日兴生物科技股份有限公司首次公开发行股票并上市申请文件反馈意见\n",
      "fetching:  南京冠石科技股份有限公司首次公开发行股票申请文件反馈意见\n"
     ]
    }
   ],
   "source": [
    "from docx import Document\n",
    "baseUrl = 'http://www.csrc.gov.cn/pub/newsite/fxjgb/scgkfxfkyj/'\n",
    "\n",
    "def download_page(nexturl):\n",
    "    r = requests.get(nexturl,headers= headers)\n",
    "    r.encoding = 'utf-8'\n",
    "    soup = BeautifulSoup(r.text,'html.parser')\n",
    "    projList = soup.find(id='myul').findAll('a')\n",
    "    for proj in projList:\n",
    "        href= proj['href']\n",
    "        docUrl = baseUrl + href\n",
    "        title = proj.text\n",
    "        print('fetching: ',title)\n",
    "\n",
    "        pageInfo = requests.get(docUrl,headers=headers)\n",
    "        pageInfo.encoding='utf-8'\n",
    "        docLink = re.findall(r'file_appendix=\\'<a href=\\\"(.*)\\\">',pageInfo.text)[0]\n",
    "        doc = requests.get(urljoin(docUrl,docLink),headers=headers,stream=True)\n",
    "        with open('C:/Users/chen/Desktop/IPO_info/data/证监会文件/{}.docx'.format(title),'wb') as f:\n",
    "                f.write(doc.content)\n",
    "        time.sleep(2)\n",
    "\n",
    "r = requests.get(baseUrl,headers= headers)\n",
    "r.encoding = 'utf-8'\n",
    "soup = BeautifulSoup(r.text,'html.parser')\n",
    "numPage = re.findall(r'var countPage = (.*)//',soup.text)[0]\n",
    "numPage = int(numPage)\n",
    "download_page(baseUrl)\n",
    "\n",
    "for i in range(1,1):\n",
    "    nextUrl = baseUrl + 'index_{}.html'.format(i)\n",
    "    download_page(nextUrl)"
   ]
  },
  {
   "cell_type": "code",
   "execution_count": 199,
   "metadata": {},
   "outputs": [
    {
     "output_type": "stream",
     "name": "stdout",
     "text": [
      "./P020201120637455060176.doc\n"
     ]
    }
   ],
   "source": [
    "docUrl ='http://www.csrc.gov.cn/pub/newsite/fxjgb/scgkfxfkyj/202011/t20201120_386566.html'\n",
    "PageInfo = requests.get(docUrl,headers=headers)\n",
    "pageInfo.encoding='utf-8'\n",
    "docLink = re.findall(r'file_appendix=\\'<a href=\\\"(.*)\\\">',PageInfo.text)[0]\n",
    "print(docLink)\n",
    "doc = requests.get(urljoin(docUrl,docLink),headers=headers)\n",
    "with open('C:/Users/chen/Desktop/IPO_info/data/证监会文件/{}.doc'.format(title),'wb') as f:\n",
    "        f.write(doc.content)\n",
    "time.sleep(2)"
   ]
  }
 ]
}